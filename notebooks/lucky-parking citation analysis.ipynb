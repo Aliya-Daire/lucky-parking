{
 "cells": [
  {
   "cell_type": "code",
   "execution_count": null,
   "metadata": {
    "colab": {},
    "colab_type": "code",
    "id": "FEBFuDaNGknd",
    "pycharm": {
     "is_executing": true
    }
   },
   "outputs": [],
   "source": [
    "import pandas as pd\n",
    "import numpy as np\n",
    "import matplotlib.pyplot as plt\n",
    "import seaborn as sns\n",
    "%matplotlib inline \n"
   ]
  },
  {
   "cell_type": "markdown",
   "metadata": {
    "colab_type": "text",
    "id": "gNEC_35jLQW5"
   },
   "source": [
    "# Load Data from Drive\n"
   ]
  },
  {
   "cell_type": "code",
   "execution_count": 0,
   "metadata": {
    "colab": {},
    "colab_type": "code",
    "id": "Rl0n8CqKLXiD"
   },
   "outputs": [],
   "source": [
    "df=pd.read_csv(\"drive/My Drive/lucky-parking/Data/Parking_Citations_After_July_1_2015.csv\",low_memory=False)\n",
    "df.head()"
   ]
  },
  {
   "cell_type": "markdown",
   "metadata": {
    "colab_type": "text",
    "id": "J0nsQct-VtSQ"
   },
   "source": [
    "# Data Handling\n"
   ]
  },
  {
   "cell_type": "code",
   "execution_count": 0,
   "metadata": {
    "colab": {},
    "colab_type": "code",
    "id": "LCtX8N6cLsL6"
   },
   "outputs": [],
   "source": [
    "df.info()"
   ]
  },
  {
   "cell_type": "code",
   "execution_count": 0,
   "metadata": {
    "colab": {},
    "colab_type": "code",
    "id": "sUr9umR6XY7N"
   },
   "outputs": [],
   "source": [
    "df['Ticket number'] = pd.to_numeric(df['Ticket number'], errors='coerce')\n",
    "df['Fine amount'] = pd.to_numeric(df['Fine amount'], errors='coerce')\n",
    "df['Route'] = pd.to_numeric(df['Route'], errors='coerce')\n",
    "df.info()"
   ]
  },
  {
   "cell_type": "code",
   "execution_count": 0,
   "metadata": {
    "colab": {},
    "colab_type": "code",
    "id": "4mktSz0qXblD"
   },
   "outputs": [],
   "source": [
    "sns.set(rc={'figure.figsize':(10,10)})\n",
    "sns.heatmap(df.corr(), annot=True, fmt='.2f', linewidth=1)"
   ]
  },
  {
   "cell_type": "markdown",
   "metadata": {
    "colab_type": "text",
    "id": "ScWyc1dWYhfr"
   },
   "source": [
    "# Time Categorization"
   ]
  },
  {
   "cell_type": "code",
   "execution_count": 0,
   "metadata": {
    "colab": {},
    "colab_type": "code",
    "id": "xOaLkmZ4XlZo"
   },
   "outputs": [],
   "source": [
    "sns.jointplot(y='Violation Description', x='Issue time', data=df.head(50000), height=15)"
   ]
  },
  {
   "cell_type": "markdown",
   "metadata": {
    "colab_type": "text",
    "id": "WrTPNkWlsIbk"
   },
   "source": []
  },
  {
   "cell_type": "markdown",
   "metadata": {
    "colab_type": "text",
    "id": "4RKbvGAjY3A0"
   },
   "source": [
    "# Top reasons for citations"
   ]
  },
  {
   "cell_type": "code",
   "execution_count": 0,
   "metadata": {
    "colab": {},
    "colab_type": "code",
    "id": "N2ViDkHWYRQ5"
   },
   "outputs": [],
   "source": [
    "df['Violation Description'].unique()\n"
   ]
  },
  {
   "cell_type": "code",
   "execution_count": 0,
   "metadata": {
    "colab": {},
    "colab_type": "code",
    "id": "0XhlWmcadHK0"
   },
   "outputs": [],
   "source": [
    "from collections import Counter\n"
   ]
  },
  {
   "cell_type": "code",
   "execution_count": 0,
   "metadata": {
    "colab": {},
    "colab_type": "code",
    "id": "ckqGXeYjeI0z"
   },
   "outputs": [],
   "source": [
    "Counter(df['Violation Description'])"
   ]
  },
  {
   "cell_type": "code",
   "execution_count": 0,
   "metadata": {
    "colab": {},
    "colab_type": "code",
    "id": "sD4wi-ERfaGS"
   },
   "outputs": [],
   "source": [
    "Counter(df['Violation Description']).most_common(25)"
   ]
  },
  {
   "cell_type": "code",
   "execution_count": 0,
   "metadata": {
    "colab": {},
    "colab_type": "code",
    "id": "qV1YzYUhfd4c"
   },
   "outputs": [],
   "source": [
    "sns.set(rc={'figure.figsize':(10,10)})\n",
    "sns.countplot(y=\"Violation Description\", data=df, order=df['Violation Description'].value_counts(ascending=False).index[:21])"
   ]
  },
  {
   "cell_type": "code",
   "execution_count": 0,
   "metadata": {
    "colab": {},
    "colab_type": "code",
    "id": "B4Pe7x-NBcY8"
   },
   "outputs": [],
   "source": [
    "!apt-get install libgeos-3.5.0\n",
    "!apt-get install libgeos-dev\n",
    "!pip install https://github.com/matplotlib/basemap/archive/master.zip"
   ]
  },
  {
   "cell_type": "code",
   "execution_count": 0,
   "metadata": {
    "colab": {},
    "colab_type": "code",
    "id": "DVWbORHgDKoc"
   },
   "outputs": [],
   "source": [
    "!pip install pyproj==1.9.6"
   ]
  },
  {
   "cell_type": "code",
   "execution_count": 0,
   "metadata": {
    "colab": {},
    "colab_type": "code",
    "id": "3ZQjFjw2HAHl"
   },
   "outputs": [],
   "source": [
    "from mpl_toolkits.basemap import Basemap"
   ]
  },
  {
   "cell_type": "code",
   "execution_count": 0,
   "metadata": {
    "colab": {},
    "colab_type": "code",
    "id": "WUn3fFrZHDtY"
   },
   "outputs": [],
   "source": [
    "fig = plt.figure(figsize=(12,9))\n",
    "m = Basemap (projection='mill', llcrnrlat=25, urcrnrlat=50, llcrnrlon=-130, urcrnrlon=-60, resolution='l')\n",
    "m.drawcoastlines\n",
    "m.drawcounties\n",
    "m.drawcountries\n",
    "m.drawstates\n",
    "plt.show()"
   ]
  },
  {
   "cell_type": "code",
   "execution_count": 0,
   "metadata": {
    "colab": {},
    "colab_type": "code",
    "id": "tHBguFiaLCKE"
   },
   "outputs": [],
   "source": []
  }
 ],
 "metadata": {
  "colab": {
   "collapsed_sections": [],
   "name": "lucky-parking citation analysis.ipynb",
   "provenance": []
  },
  "kernelspec": {
   "display_name": "Python 3",
   "language": "python",
   "name": "python3"
  },
  "language_info": {
   "codemirror_mode": {
    "name": "ipython",
    "version": 3
   },
   "file_extension": ".py",
   "mimetype": "text/x-python",
   "name": "python",
   "nbconvert_exporter": "python",
   "pygments_lexer": "ipython3",
   "version": "3.7.3"
  }
 },
 "nbformat": 4,
 "nbformat_minor": 1
}
