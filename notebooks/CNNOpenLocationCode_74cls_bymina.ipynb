{
 "cells": [
  {
   "cell_type": "code",
   "execution_count": null,
   "metadata": {},
   "outputs": [],
   "source": []
  },
  {
   "cell_type": "markdown",
   "metadata": {},
   "source": [
    "WRITE-UPs for CNN OPEN LOCATION CODE CLASSIFICATION \n",
    "\n",
    "1) Datasets used: Simplified_Citation_After_2015July_to_2019.csv, CAMS_ZIPCODE_STREET_SPECIFIC.shp\n",
    "\n",
    "2) Original columns dropped: 'Unnamed: 0', 'Ticket number', 'VIN', 'Make', 'Body Style', 'Color',\n",
    "                         \n",
    "                            'index_right', 'OBJECTID_1', 'OBJECTID', 'FID_1', 'Name',\n",
    "\n",
    "                            'SDE_STATE_', 'ORIG_FID', 'Distance', 'geometry'\n",
    "\n",
    "3) 'Issue Date' and 'Issue time' are dropped after processing and sorting\n",
    "\n",
    "4) Open Location Code 'OLC' target variable with 74-classes is created based on Latitude and Longitude\n",
    "\n",
    "5) OLC has huge class imbalance; however, imbalance problem left untackled to preserve location-specific granularity classification\n",
    "\n",
    "6) zip_df is the finalized after-processed dataframe\n",
    "\n",
    "7) Same model architecture as previous CNN Zipcode classification excpet for certain changes:\n",
    "    \n",
    "    a) number of epochs = 60\n",
    "    \n",
    "    b) EarlyStopping = 5\n",
    "    \n",
    "    c) Learning Rate Reducing Factor = 0.92\n",
    "    \n",
    "    d) Adding ModelCheckpoint to save best model for reuse\n",
    "\n",
    "8) As expected due to so many classes and imbalance issue, the result for first iteration is not impressive; nevertheless, the model is gradually improving (in terms of loss reduction and increasing acc for both train and validation sets)\n",
    "\n",
    "9) 1st iteration: val_accuracy= 0.5677\n",
    "\n",
    "10) Best iteration: val_accuracy= 0.87060\n",
    "\n",
    "11) Val_acc graph shows constant upward trend; Val_loss graph shows constant downward trend\n",
    "\n",
    "12) Since both graphs have no huge ups/downs, the model seems to keep learning\n",
    "\n",
    "13) 87% validation acc sounds solid for imbalanced 74-classes, but maybe next time we could improve to over 90%"
   ]
  },
  {
   "cell_type": "code",
   "execution_count": 3,
   "metadata": {},
   "outputs": [],
   "source": [
    "from sklearn.preprocessing import StandardScaler\n",
    "from sklearn.metrics import auc,roc_auc_score\n",
    "from catboost import CatBoostClassifier,Pool, cv\n",
    "from sklearn.preprocessing import LabelEncoder\n",
    "from lightgbm import LGBMClassifier\n",
    "from sklearn.metrics import roc_curve, auc, classification_report, confusion_matrix, accuracy_score\n",
    "from sklearn.model_selection import train_test_split, cross_val_score, KFold, StratifiedKFold\n",
    "\n",
    "from openlocationcode.openlocationcode import *\n",
    "\n",
    "import pandas as pd\n",
    "import numpy as np\n",
    "import seaborn as sns\n",
    "import matplotlib.pyplot as plt\n",
    "import datetime\n",
    "from datetime import time\n",
    "sns.set()\n",
    "%matplotlib inline\n",
    "import geopandas\n",
    "from geopandas import GeoDataFrame\n",
    "from shapely.geometry import Point\n",
    "import pyproj\n",
    "\n",
    "import warnings\n",
    "warnings.filterwarnings(\"ignore\")"
   ]
  },
  {
   "cell_type": "code",
   "execution_count": 4,
   "metadata": {},
   "outputs": [],
   "source": [
    "# Deep Learning Libraries\n",
    "from tensorflow import keras\n",
    "from tensorflow.keras import Sequential\n",
    "from tensorflow.keras.layers import Flatten,Dense,Dropout,BatchNormalization\n",
    "from tensorflow.keras.layers import Conv1D,MaxPool1D\n",
    "from tensorflow.keras.optimizers import Adam\n",
    "from tensorflow.keras.callbacks import EarlyStopping, ReduceLROnPlateau, ModelCheckpoint\n",
    "from tensorflow.keras import callbacks"
   ]
  },
  {
   "cell_type": "code",
   "execution_count": 5,
   "metadata": {},
   "outputs": [
    {
     "name": "stdout",
     "output_type": "stream",
     "text": [
      "(87554, 19)\n"
     ]
    }
   ],
   "source": [
    "#1\n",
    "df = pd.read_csv('../input/laparking-simplified/Simplified_Citation_After_2015July_to_2019.csv')\n",
    "print(df.shape)"
   ]
  },
  {
   "cell_type": "code",
   "execution_count": 6,
   "metadata": {},
   "outputs": [
    {
     "name": "stdout",
     "output_type": "stream",
     "text": [
      "(358, 11)\n"
     ]
    }
   ],
   "source": [
    "#2\n",
    "zipcode = geopandas.read_file('../input/cams-zipcode-street-specific/CAMS_ZIPCODE_STREET_SPECIFIC.shp')\n",
    "print(zipcode.shape)"
   ]
  },
  {
   "cell_type": "code",
   "execution_count": 7,
   "metadata": {},
   "outputs": [
    {
     "data": {
      "text/plain": [
       "[<shapely.geometry.point.Point at 0x7fa701c02390>,\n",
       " <shapely.geometry.point.Point at 0x7fa701c02350>,\n",
       " <shapely.geometry.point.Point at 0x7fa701c021d0>]"
      ]
     },
     "execution_count": 7,
     "metadata": {},
     "output_type": "execute_result"
    }
   ],
   "source": [
    "#3\n",
    "geometry = [Point(xy) for xy in zip(df[\"Latitude\"],df[\"Longitude\"])] \n",
    "geometry[:3]"
   ]
  },
  {
   "cell_type": "code",
   "execution_count": 8,
   "metadata": {},
   "outputs": [
    {
     "data": {
      "text/html": [
       "<div>\n",
       "<style scoped>\n",
       "    .dataframe tbody tr th:only-of-type {\n",
       "        vertical-align: middle;\n",
       "    }\n",
       "\n",
       "    .dataframe tbody tr th {\n",
       "        vertical-align: top;\n",
       "    }\n",
       "\n",
       "    .dataframe thead th {\n",
       "        text-align: right;\n",
       "    }\n",
       "</style>\n",
       "<table border=\"1\" class=\"dataframe\">\n",
       "  <thead>\n",
       "    <tr style=\"text-align: right;\">\n",
       "      <th></th>\n",
       "      <th>Unnamed: 0</th>\n",
       "      <th>Ticket number</th>\n",
       "      <th>Issue Date</th>\n",
       "      <th>Issue time</th>\n",
       "      <th>Meter Id</th>\n",
       "      <th>Marked Time</th>\n",
       "      <th>RP State Plate</th>\n",
       "      <th>VIN</th>\n",
       "      <th>Make</th>\n",
       "      <th>Body Style</th>\n",
       "      <th>Color</th>\n",
       "      <th>Location</th>\n",
       "      <th>Route</th>\n",
       "      <th>Agency</th>\n",
       "      <th>Violation code</th>\n",
       "      <th>Violation Description</th>\n",
       "      <th>Fine amount</th>\n",
       "      <th>Latitude</th>\n",
       "      <th>Longitude</th>\n",
       "      <th>geometry</th>\n",
       "    </tr>\n",
       "  </thead>\n",
       "  <tbody>\n",
       "    <tr>\n",
       "      <th>0</th>\n",
       "      <td>28</td>\n",
       "      <td>4361326712</td>\n",
       "      <td>2019/09/17 12:00:00 AM</td>\n",
       "      <td>1205.0</td>\n",
       "      <td>NaN</td>\n",
       "      <td>NaN</td>\n",
       "      <td>CA</td>\n",
       "      <td>NaN</td>\n",
       "      <td>TOYT</td>\n",
       "      <td>PA</td>\n",
       "      <td>GY</td>\n",
       "      <td>309 WINDWARD AVE</td>\n",
       "      <td>00163</td>\n",
       "      <td>51.0</td>\n",
       "      <td>80.69BS</td>\n",
       "      <td>NO PARK/STREET CLEAN</td>\n",
       "      <td>73.0</td>\n",
       "      <td>6.419487e+06</td>\n",
       "      <td>1.818861e+06</td>\n",
       "      <td>POINT (6419487.346 1818860.518)</td>\n",
       "    </tr>\n",
       "    <tr>\n",
       "      <th>1</th>\n",
       "      <td>112</td>\n",
       "      <td>4361286823</td>\n",
       "      <td>2019/09/17 12:00:00 AM</td>\n",
       "      <td>853.0</td>\n",
       "      <td>NaN</td>\n",
       "      <td>NaN</td>\n",
       "      <td>CA</td>\n",
       "      <td>NaN</td>\n",
       "      <td>TOYT</td>\n",
       "      <td>PA</td>\n",
       "      <td>WT</td>\n",
       "      <td>934 84TH ST W</td>\n",
       "      <td>00553</td>\n",
       "      <td>55.0</td>\n",
       "      <td>80.69BS</td>\n",
       "      <td>NO PARK/STREET CLEAN</td>\n",
       "      <td>73.0</td>\n",
       "      <td>6.473690e+06</td>\n",
       "      <td>1.808839e+06</td>\n",
       "      <td>POINT (6473689.884 1808838.586)</td>\n",
       "    </tr>\n",
       "    <tr>\n",
       "      <th>2</th>\n",
       "      <td>224</td>\n",
       "      <td>4361159515</td>\n",
       "      <td>2019/09/17 12:00:00 AM</td>\n",
       "      <td>833.0</td>\n",
       "      <td>NaN</td>\n",
       "      <td>NaN</td>\n",
       "      <td>CA</td>\n",
       "      <td>NaN</td>\n",
       "      <td>NISS</td>\n",
       "      <td>PA</td>\n",
       "      <td>WT</td>\n",
       "      <td>2601 MONMOUTH AVE</td>\n",
       "      <td>00536</td>\n",
       "      <td>55.0</td>\n",
       "      <td>80.69BS</td>\n",
       "      <td>NO PARK/STREET CLEAN</td>\n",
       "      <td>73.0</td>\n",
       "      <td>6.475329e+06</td>\n",
       "      <td>1.834194e+06</td>\n",
       "      <td>POINT (6475329.075 1834193.637)</td>\n",
       "    </tr>\n",
       "    <tr>\n",
       "      <th>3</th>\n",
       "      <td>473</td>\n",
       "      <td>4361237226</td>\n",
       "      <td>2019/09/17 12:00:00 AM</td>\n",
       "      <td>1015.0</td>\n",
       "      <td>NaN</td>\n",
       "      <td>NaN</td>\n",
       "      <td>CA</td>\n",
       "      <td>NaN</td>\n",
       "      <td>HOND</td>\n",
       "      <td>PA</td>\n",
       "      <td>RD</td>\n",
       "      <td>615 HAMPTON DR</td>\n",
       "      <td>00133</td>\n",
       "      <td>51.0</td>\n",
       "      <td>80.69BS</td>\n",
       "      <td>NO PARK/STREET CLEAN</td>\n",
       "      <td>73.0</td>\n",
       "      <td>6.417752e+06</td>\n",
       "      <td>1.820642e+06</td>\n",
       "      <td>POINT (6417752.445 1820641.850)</td>\n",
       "    </tr>\n",
       "    <tr>\n",
       "      <th>4</th>\n",
       "      <td>592</td>\n",
       "      <td>4360129196</td>\n",
       "      <td>2019/09/17 12:00:00 AM</td>\n",
       "      <td>1007.0</td>\n",
       "      <td>NaN</td>\n",
       "      <td>NaN</td>\n",
       "      <td>CA</td>\n",
       "      <td>NaN</td>\n",
       "      <td>VOLV</td>\n",
       "      <td>PA</td>\n",
       "      <td>SL</td>\n",
       "      <td>1346 MCCADDEN PL N</td>\n",
       "      <td>00487</td>\n",
       "      <td>54.0</td>\n",
       "      <td>80.69BS</td>\n",
       "      <td>NO PARK/STREET CLEAN</td>\n",
       "      <td>73.0</td>\n",
       "      <td>6.459495e+06</td>\n",
       "      <td>1.857205e+06</td>\n",
       "      <td>POINT (6459494.955 1857204.982)</td>\n",
       "    </tr>\n",
       "  </tbody>\n",
       "</table>\n",
       "</div>"
      ],
      "text/plain": [
       "   Unnamed: 0  Ticket number              Issue Date  Issue time Meter Id  \\\n",
       "0          28     4361326712  2019/09/17 12:00:00 AM      1205.0      NaN   \n",
       "1         112     4361286823  2019/09/17 12:00:00 AM       853.0      NaN   \n",
       "2         224     4361159515  2019/09/17 12:00:00 AM       833.0      NaN   \n",
       "3         473     4361237226  2019/09/17 12:00:00 AM      1015.0      NaN   \n",
       "4         592     4360129196  2019/09/17 12:00:00 AM      1007.0      NaN   \n",
       "\n",
       "   Marked Time RP State Plate  VIN  Make Body Style Color            Location  \\\n",
       "0          NaN             CA  NaN  TOYT         PA    GY    309 WINDWARD AVE   \n",
       "1          NaN             CA  NaN  TOYT         PA    WT       934 84TH ST W   \n",
       "2          NaN             CA  NaN  NISS         PA    WT   2601 MONMOUTH AVE   \n",
       "3          NaN             CA  NaN  HOND         PA    RD      615 HAMPTON DR   \n",
       "4          NaN             CA  NaN  VOLV         PA    SL  1346 MCCADDEN PL N   \n",
       "\n",
       "   Route  Agency Violation code Violation Description  Fine amount  \\\n",
       "0  00163    51.0        80.69BS  NO PARK/STREET CLEAN         73.0   \n",
       "1  00553    55.0        80.69BS  NO PARK/STREET CLEAN         73.0   \n",
       "2  00536    55.0        80.69BS  NO PARK/STREET CLEAN         73.0   \n",
       "3  00133    51.0        80.69BS  NO PARK/STREET CLEAN         73.0   \n",
       "4  00487    54.0        80.69BS  NO PARK/STREET CLEAN         73.0   \n",
       "\n",
       "       Latitude     Longitude                         geometry  \n",
       "0  6.419487e+06  1.818861e+06  POINT (6419487.346 1818860.518)  \n",
       "1  6.473690e+06  1.808839e+06  POINT (6473689.884 1808838.586)  \n",
       "2  6.475329e+06  1.834194e+06  POINT (6475329.075 1834193.637)  \n",
       "3  6.417752e+06  1.820642e+06  POINT (6417752.445 1820641.850)  \n",
       "4  6.459495e+06  1.857205e+06  POINT (6459494.955 1857204.982)  "
      ]
     },
     "execution_count": 8,
     "metadata": {},
     "output_type": "execute_result"
    }
   ],
   "source": [
    "#4\n",
    "df = geopandas.GeoDataFrame(df, geometry= geometry)\n",
    "df.head()"
   ]
  },
  {
   "cell_type": "code",
   "execution_count": 9,
   "metadata": {},
   "outputs": [
    {
     "name": "stdout",
     "output_type": "stream",
     "text": [
      "(76138, 31)\n"
     ]
    }
   ],
   "source": [
    "#5\n",
    "zip_df = geopandas.sjoin(df, zipcode, how=\"inner\", op='intersects')\n",
    "print(zip_df.shape)"
   ]
  },
  {
   "cell_type": "code",
   "execution_count": 10,
   "metadata": {},
   "outputs": [
    {
     "data": {
      "text/html": [
       "<div>\n",
       "<style scoped>\n",
       "    .dataframe tbody tr th:only-of-type {\n",
       "        vertical-align: middle;\n",
       "    }\n",
       "\n",
       "    .dataframe tbody tr th {\n",
       "        vertical-align: top;\n",
       "    }\n",
       "\n",
       "    .dataframe thead th {\n",
       "        text-align: right;\n",
       "    }\n",
       "</style>\n",
       "<table border=\"1\" class=\"dataframe\">\n",
       "  <thead>\n",
       "    <tr style=\"text-align: right;\">\n",
       "      <th></th>\n",
       "      <th>Unnamed: 0</th>\n",
       "      <th>Ticket number</th>\n",
       "      <th>Issue Date</th>\n",
       "      <th>Issue time</th>\n",
       "      <th>Meter Id</th>\n",
       "      <th>Marked Time</th>\n",
       "      <th>RP State Plate</th>\n",
       "      <th>VIN</th>\n",
       "      <th>Make</th>\n",
       "      <th>Body Style</th>\n",
       "      <th>...</th>\n",
       "      <th>OBJECTID_1</th>\n",
       "      <th>OBJECTID</th>\n",
       "      <th>FID_1</th>\n",
       "      <th>Name</th>\n",
       "      <th>SDE_STATE_</th>\n",
       "      <th>ORIG_FID</th>\n",
       "      <th>Distance</th>\n",
       "      <th>Zip_Num</th>\n",
       "      <th>Shape_area</th>\n",
       "      <th>Shape_len</th>\n",
       "    </tr>\n",
       "  </thead>\n",
       "  <tbody>\n",
       "    <tr>\n",
       "      <th>0</th>\n",
       "      <td>28</td>\n",
       "      <td>4361326712</td>\n",
       "      <td>2019/09/17 12:00:00 AM</td>\n",
       "      <td>1205.0</td>\n",
       "      <td>NaN</td>\n",
       "      <td>NaN</td>\n",
       "      <td>CA</td>\n",
       "      <td>NaN</td>\n",
       "      <td>TOYT</td>\n",
       "      <td>PA</td>\n",
       "      <td>...</td>\n",
       "      <td>60</td>\n",
       "      <td>117</td>\n",
       "      <td>59</td>\n",
       "      <td>90291</td>\n",
       "      <td>0.0</td>\n",
       "      <td>8598</td>\n",
       "      <td>0.0</td>\n",
       "      <td>90291</td>\n",
       "      <td>6.573165e+07</td>\n",
       "      <td>42418.357952</td>\n",
       "    </tr>\n",
       "    <tr>\n",
       "      <th>3</th>\n",
       "      <td>473</td>\n",
       "      <td>4361237226</td>\n",
       "      <td>2019/09/17 12:00:00 AM</td>\n",
       "      <td>1015.0</td>\n",
       "      <td>NaN</td>\n",
       "      <td>NaN</td>\n",
       "      <td>CA</td>\n",
       "      <td>NaN</td>\n",
       "      <td>HOND</td>\n",
       "      <td>PA</td>\n",
       "      <td>...</td>\n",
       "      <td>60</td>\n",
       "      <td>117</td>\n",
       "      <td>59</td>\n",
       "      <td>90291</td>\n",
       "      <td>0.0</td>\n",
       "      <td>8598</td>\n",
       "      <td>0.0</td>\n",
       "      <td>90291</td>\n",
       "      <td>6.573165e+07</td>\n",
       "      <td>42418.357952</td>\n",
       "    </tr>\n",
       "    <tr>\n",
       "      <th>77</th>\n",
       "      <td>7964</td>\n",
       "      <td>4360539886</td>\n",
       "      <td>2019/09/11 12:00:00 AM</td>\n",
       "      <td>817.0</td>\n",
       "      <td>NaN</td>\n",
       "      <td>NaN</td>\n",
       "      <td>CA</td>\n",
       "      <td>NaN</td>\n",
       "      <td>BUIC</td>\n",
       "      <td>PA</td>\n",
       "      <td>...</td>\n",
       "      <td>60</td>\n",
       "      <td>117</td>\n",
       "      <td>59</td>\n",
       "      <td>90291</td>\n",
       "      <td>0.0</td>\n",
       "      <td>8598</td>\n",
       "      <td>0.0</td>\n",
       "      <td>90291</td>\n",
       "      <td>6.573165e+07</td>\n",
       "      <td>42418.357952</td>\n",
       "    </tr>\n",
       "    <tr>\n",
       "      <th>135</th>\n",
       "      <td>14174</td>\n",
       "      <td>4361088071</td>\n",
       "      <td>2019/09/08 12:00:00 AM</td>\n",
       "      <td>201.0</td>\n",
       "      <td>NaN</td>\n",
       "      <td>NaN</td>\n",
       "      <td>CA</td>\n",
       "      <td>NaN</td>\n",
       "      <td>HOND</td>\n",
       "      <td>PA</td>\n",
       "      <td>...</td>\n",
       "      <td>60</td>\n",
       "      <td>117</td>\n",
       "      <td>59</td>\n",
       "      <td>90291</td>\n",
       "      <td>0.0</td>\n",
       "      <td>8598</td>\n",
       "      <td>0.0</td>\n",
       "      <td>90291</td>\n",
       "      <td>6.573165e+07</td>\n",
       "      <td>42418.357952</td>\n",
       "    </tr>\n",
       "    <tr>\n",
       "      <th>235</th>\n",
       "      <td>24013</td>\n",
       "      <td>4360163161</td>\n",
       "      <td>2019/08/30 12:00:00 AM</td>\n",
       "      <td>1810.0</td>\n",
       "      <td>VL108</td>\n",
       "      <td>NaN</td>\n",
       "      <td>CA</td>\n",
       "      <td>NaN</td>\n",
       "      <td>TOYT</td>\n",
       "      <td>PU</td>\n",
       "      <td>...</td>\n",
       "      <td>60</td>\n",
       "      <td>117</td>\n",
       "      <td>59</td>\n",
       "      <td>90291</td>\n",
       "      <td>0.0</td>\n",
       "      <td>8598</td>\n",
       "      <td>0.0</td>\n",
       "      <td>90291</td>\n",
       "      <td>6.573165e+07</td>\n",
       "      <td>42418.357952</td>\n",
       "    </tr>\n",
       "  </tbody>\n",
       "</table>\n",
       "<p>5 rows × 31 columns</p>\n",
       "</div>"
      ],
      "text/plain": [
       "     Unnamed: 0  Ticket number              Issue Date  Issue time Meter Id  \\\n",
       "0            28     4361326712  2019/09/17 12:00:00 AM      1205.0      NaN   \n",
       "3           473     4361237226  2019/09/17 12:00:00 AM      1015.0      NaN   \n",
       "77         7964     4360539886  2019/09/11 12:00:00 AM       817.0      NaN   \n",
       "135       14174     4361088071  2019/09/08 12:00:00 AM       201.0      NaN   \n",
       "235       24013     4360163161  2019/08/30 12:00:00 AM      1810.0    VL108   \n",
       "\n",
       "     Marked Time RP State Plate  VIN  Make Body Style  ... OBJECTID_1  \\\n",
       "0            NaN             CA  NaN  TOYT         PA  ...         60   \n",
       "3            NaN             CA  NaN  HOND         PA  ...         60   \n",
       "77           NaN             CA  NaN  BUIC         PA  ...         60   \n",
       "135          NaN             CA  NaN  HOND         PA  ...         60   \n",
       "235          NaN             CA  NaN  TOYT         PU  ...         60   \n",
       "\n",
       "    OBJECTID FID_1   Name SDE_STATE_ ORIG_FID  Distance  Zip_Num  \\\n",
       "0        117    59  90291        0.0     8598       0.0    90291   \n",
       "3        117    59  90291        0.0     8598       0.0    90291   \n",
       "77       117    59  90291        0.0     8598       0.0    90291   \n",
       "135      117    59  90291        0.0     8598       0.0    90291   \n",
       "235      117    59  90291        0.0     8598       0.0    90291   \n",
       "\n",
       "       Shape_area     Shape_len  \n",
       "0    6.573165e+07  42418.357952  \n",
       "3    6.573165e+07  42418.357952  \n",
       "77   6.573165e+07  42418.357952  \n",
       "135  6.573165e+07  42418.357952  \n",
       "235  6.573165e+07  42418.357952  \n",
       "\n",
       "[5 rows x 31 columns]"
      ]
     },
     "execution_count": 10,
     "metadata": {},
     "output_type": "execute_result"
    }
   ],
   "source": [
    "#6\n",
    "zip_df.head()"
   ]
  },
  {
   "cell_type": "code",
   "execution_count": 11,
   "metadata": {},
   "outputs": [
    {
     "data": {
      "text/plain": [
       "Index(['Unnamed: 0', 'Ticket number', 'Issue Date', 'Issue time', 'Meter Id',\n",
       "       'Marked Time', 'RP State Plate', 'VIN', 'Make', 'Body Style', 'Color',\n",
       "       'Location', 'Route', 'Agency', 'Violation code',\n",
       "       'Violation Description', 'Fine amount', 'Latitude', 'Longitude',\n",
       "       'geometry', 'index_right', 'OBJECTID_1', 'OBJECTID', 'FID_1', 'Name',\n",
       "       'SDE_STATE_', 'ORIG_FID', 'Distance', 'Zip_Num', 'Shape_area',\n",
       "       'Shape_len'],\n",
       "      dtype='object')"
      ]
     },
     "execution_count": 11,
     "metadata": {},
     "output_type": "execute_result"
    }
   ],
   "source": [
    "#7\n",
    "zip_df.columns"
   ]
  },
  {
   "cell_type": "code",
   "execution_count": 12,
   "metadata": {},
   "outputs": [
    {
     "name": "stdout",
     "output_type": "stream",
     "text": [
      "(76138, 17)\n"
     ]
    }
   ],
   "source": [
    "#8\n",
    "zip_df.drop(['Unnamed: 0', 'Ticket number', 'VIN', 'Make', 'Body Style', 'Color',\n",
    "'index_right', 'OBJECTID_1', 'OBJECTID', 'FID_1', 'Name',\n",
    "'SDE_STATE_', 'ORIG_FID', 'Distance'], axis=1, inplace=True)\n",
    "print(zip_df.shape)"
   ]
  },
  {
   "cell_type": "code",
   "execution_count": 13,
   "metadata": {},
   "outputs": [
    {
     "data": {
      "text/plain": [
       "Index(['Issue Date', 'Issue time', 'Meter Id', 'Marked Time', 'RP State Plate',\n",
       "       'Location', 'Route', 'Agency', 'Violation code',\n",
       "       'Violation Description', 'Fine amount', 'Latitude', 'Longitude',\n",
       "       'geometry', 'Zip_Num', 'Shape_area', 'Shape_len'],\n",
       "      dtype='object')"
      ]
     },
     "execution_count": 13,
     "metadata": {},
     "output_type": "execute_result"
    }
   ],
   "source": [
    "#9\n",
    "zip_df.columns"
   ]
  },
  {
   "cell_type": "code",
   "execution_count": 14,
   "metadata": {},
   "outputs": [
    {
     "data": {
      "text/plain": [
       "Issue Date                   0\n",
       "Issue time                  11\n",
       "Meter Id                 54920\n",
       "Marked Time              73582\n",
       "RP State Plate               1\n",
       "Location                     0\n",
       "Route                      331\n",
       "Agency                       0\n",
       "Violation code               0\n",
       "Violation Description        2\n",
       "Fine amount                 23\n",
       "Latitude                     0\n",
       "Longitude                    0\n",
       "geometry                     0\n",
       "Zip_Num                      0\n",
       "Shape_area                   0\n",
       "Shape_len                    0\n",
       "dtype: int64"
      ]
     },
     "execution_count": 14,
     "metadata": {},
     "output_type": "execute_result"
    }
   ],
   "source": [
    "#10\n",
    "zip_df.isnull().sum()"
   ]
  },
  {
   "cell_type": "code",
   "execution_count": 15,
   "metadata": {},
   "outputs": [
    {
     "data": {
      "text/plain": [
       "90028    3689\n",
       "90015    2757\n",
       "90025    2704\n",
       "90036    2599\n",
       "90291    2548\n",
       "         ... \n",
       "91803       1\n",
       "90212       1\n",
       "90095       1\n",
       "91201       1\n",
       "91505       1\n",
       "Name: Zip_Num, Length: 126, dtype: int64"
      ]
     },
     "execution_count": 15,
     "metadata": {},
     "output_type": "execute_result"
    }
   ],
   "source": [
    "#11\n",
    "zip_df['Zip_Num'].value_counts().sort_values(ascending=False)"
   ]
  },
  {
   "cell_type": "code",
   "execution_count": 16,
   "metadata": {},
   "outputs": [],
   "source": [
    "#12\n",
    "# Conversion using pyproj module\n",
    "inProj = pyproj.Proj('epsg:2229', preserve_units=True) # make sure unit preserve \n",
    "outProj = pyproj.Proj('epsg:4326')\n",
    "y_1,x_1 = pyproj.transform(inProj,outProj,zip_df[\"Latitude\"].values,zip_df[\"Longitude\"].values)\n",
    "zip_df[\"Latitude\"] = y_1\n",
    "zip_df[\"Longitude\"] = x_1"
   ]
  },
  {
   "cell_type": "code",
   "execution_count": 28,
   "metadata": {},
   "outputs": [],
   "source": [
    "#13\n",
    "zip_df['OLC'] = zip_df[[\"Latitude\", \"Longitude\"]].apply(lambda l: encode(l[0], l[1], codeLength=6), axis = 1)"
   ]
  },
  {
   "cell_type": "code",
   "execution_count": null,
   "metadata": {},
   "outputs": [],
   "source": [
    "# data processing......"
   ]
  },
  {
   "cell_type": "code",
   "execution_count": 67,
   "metadata": {},
   "outputs": [],
   "source": [
    "X = zip_df.drop(labels=['OLC'], axis=1)\n",
    "y = zip_df['OLC'].values"
   ]
  },
  {
   "cell_type": "code",
   "execution_count": 68,
   "metadata": {},
   "outputs": [],
   "source": [
    "X_train = X[:53246]\n",
    "X_cv = X[53246:]\n",
    "y_train = y[:53246]\n",
    "y_cv = y[53246:]"
   ]
  },
  {
   "cell_type": "code",
   "execution_count": 69,
   "metadata": {},
   "outputs": [],
   "source": [
    "X_train = X_train.to_numpy()\n",
    "X_cv = X_cv.to_numpy()"
   ]
  },
  {
   "cell_type": "code",
   "execution_count": 70,
   "metadata": {},
   "outputs": [],
   "source": [
    "X_train = X_train.reshape(X_train.shape[0],X_train.shape[1],1)\n",
    "X_cv = X_cv.reshape(X_cv.shape[0],X_cv.shape[1],1)"
   ]
  },
  {
   "cell_type": "code",
   "execution_count": 71,
   "metadata": {},
   "outputs": [],
   "source": [
    "# Convolutional Neural Networks (CNN)\n",
    "epoch = 60\n",
    "model = Sequential()\n",
    "model.add(Conv1D(40,2,activation='elu',kernel_initializer='he_normal',input_shape = X_train[0].shape))\n",
    "model.add(BatchNormalization())\n",
    "\n",
    "model.add(Conv1D(70,2,activation='elu', kernel_initializer='he_normal'))\n",
    "model.add(BatchNormalization())\n",
    "model.add(Dropout(0.4))\n",
    "\n",
    "model.add(Conv1D(100,2,activation='elu', kernel_initializer='he_normal'))\n",
    "model.add(BatchNormalization())\n",
    "model.add(Dropout(0.5))\n",
    "\n",
    "model.add(Conv1D(100,2,activation='elu', kernel_initializer='he_normal'))\n",
    "model.add(BatchNormalization())\n",
    "\n",
    "model.add(Flatten())\n",
    "model.add(Dense(64,activation='elu', kernel_initializer='he_normal'))\n",
    "\n",
    "model.add(Dense(74,activation='softmax'))"
   ]
  },
  {
   "cell_type": "code",
   "execution_count": 72,
   "metadata": {},
   "outputs": [
    {
     "name": "stdout",
     "output_type": "stream",
     "text": [
      "Model: \"sequential\"\n",
      "_________________________________________________________________\n",
      "Layer (type)                 Output Shape              Param #   \n",
      "=================================================================\n",
      "conv1d (Conv1D)              (None, 233, 40)           120       \n",
      "_________________________________________________________________\n",
      "batch_normalization (BatchNo (None, 233, 40)           160       \n",
      "_________________________________________________________________\n",
      "conv1d_1 (Conv1D)            (None, 232, 70)           5670      \n",
      "_________________________________________________________________\n",
      "batch_normalization_1 (Batch (None, 232, 70)           280       \n",
      "_________________________________________________________________\n",
      "dropout (Dropout)            (None, 232, 70)           0         \n",
      "_________________________________________________________________\n",
      "conv1d_2 (Conv1D)            (None, 231, 100)          14100     \n",
      "_________________________________________________________________\n",
      "batch_normalization_2 (Batch (None, 231, 100)          400       \n",
      "_________________________________________________________________\n",
      "dropout_1 (Dropout)          (None, 231, 100)          0         \n",
      "_________________________________________________________________\n",
      "conv1d_3 (Conv1D)            (None, 230, 100)          20100     \n",
      "_________________________________________________________________\n",
      "batch_normalization_3 (Batch (None, 230, 100)          400       \n",
      "_________________________________________________________________\n",
      "flatten (Flatten)            (None, 23000)             0         \n",
      "_________________________________________________________________\n",
      "dense (Dense)                (None, 64)                1472064   \n",
      "_________________________________________________________________\n",
      "dense_1 (Dense)              (None, 74)                4810      \n",
      "=================================================================\n",
      "Total params: 1,518,104\n",
      "Trainable params: 1,517,484\n",
      "Non-trainable params: 620\n",
      "_________________________________________________________________\n"
     ]
    }
   ],
   "source": [
    "model.summary()"
   ]
  },
  {
   "cell_type": "code",
   "execution_count": 73,
   "metadata": {},
   "outputs": [],
   "source": [
    "model.compile(optimizer=Adam(lr=0.001), loss = 'sparse_categorical_crossentropy', metrics=['accuracy'])"
   ]
  },
  {
   "cell_type": "code",
   "execution_count": 74,
   "metadata": {},
   "outputs": [],
   "source": [
    "earlystop = EarlyStopping(patience=5) \n",
    "learning_rate_reduction = ReduceLROnPlateau(monitor='val_accuracy', \n",
    "                                            patience=2, \n",
    "                                            verbose=1, \n",
    "                                            factor=0.92, \n",
    "                                            min_lr=0.00001)\n",
    "checkpointer = ModelCheckpoint(filepath='model.h5', monitor='val_accuracy', verbose=1, \n",
    "                save_best_only=True, mode='max', period=1)\n",
    "callbacks = [earlystop, learning_rate_reduction, checkpointer\n",
    "            ]"
   ]
  },
  {
   "cell_type": "code",
   "execution_count": 75,
   "metadata": {},
   "outputs": [
    {
     "name": "stdout",
     "output_type": "stream",
     "text": [
      "Train on 53246 samples, validate on 22820 samples\n",
      "Epoch 1/60\n",
      "53216/53246 [============================>.] - ETA: 0s - loss: 1.9045 - accuracy: 0.4295\n",
      "Epoch 00001: val_accuracy improved from -inf to 0.56766, saving model to model.h5\n",
      "53246/53246 [==============================] - 119s 2ms/sample - loss: 1.9041 - accuracy: 0.4296 - val_loss: 1.2720 - val_accuracy: 0.5677\n",
      "Epoch 2/60\n",
      "53216/53246 [============================>.] - ETA: 0s - loss: 1.1844 - accuracy: 0.6053\n",
      "Epoch 00002: val_accuracy improved from 0.56766 to 0.66012, saving model to model.h5\n",
      "53246/53246 [==============================] - 118s 2ms/sample - loss: 1.1844 - accuracy: 0.6053 - val_loss: 1.0012 - val_accuracy: 0.6601\n",
      "Epoch 3/60\n",
      "53216/53246 [============================>.] - ETA: 0s - loss: 0.9976 - accuracy: 0.6587\n",
      "Epoch 00003: val_accuracy improved from 0.66012 to 0.69049, saving model to model.h5\n",
      "53246/53246 [==============================] - 117s 2ms/sample - loss: 0.9976 - accuracy: 0.6588 - val_loss: 0.8905 - val_accuracy: 0.6905\n",
      "Epoch 4/60\n",
      "53216/53246 [============================>.] - ETA: 0s - loss: 0.6106 - accuracy: 0.7843\n",
      "Epoch 00011: val_accuracy did not improve from 0.78817\n",
      "53246/53246 [==============================] - 116s 2ms/sample - loss: 0.6107 - accuracy: 0.7843 - val_loss: 0.6212 - val_accuracy: 0.7800\n",
      "Epoch 12/60\n",
      "53216/53246 [============================>.] - ETA: 0s - loss: 0.5860 - accuracy: 0.7913\n",
      "Epoch 00012: val_accuracy improved from 0.78817 to 0.79855, saving model to model.h5\n",
      "53246/53246 [==============================] - 117s 2ms/sample - loss: 0.5860 - accuracy: 0.7913 - val_loss: 0.5692 - val_accuracy: 0.7986\n",
      "Epoch 13/60\n",
      "53216/53246 [============================>.] - ETA: 0s - loss: 0.5686 - accuracy: 0.7993\n",
      "Epoch 00013: val_accuracy improved from 0.79855 to 0.81214, saving model to model.h5\n",
      "53246/53246 [==============================] - 116s 2ms/sample - loss: 0.5686 - accuracy: 0.7993 - val_loss: 0.5290 - val_accuracy: 0.8121\n",
      "Epoch 14/60\n",
      "53216/53246 [============================>.] - ETA: 0s - loss: 0.5533 - accuracy: 0.8053\n",
      "Epoch 00014: val_accuracy did not improve from 0.81214\n",
      "53246/53246 [==============================] - 120s 2ms/sample - loss: 0.5532 - accuracy: 0.8054 - val_loss: 0.5579 - val_accuracy: 0.8022\n",
      "Epoch 15/60\n",
      "53216/53246 [============================>.] - ETA: 0s - loss: 0.5350 - accuracy: 0.8090\n",
      "Epoch 00015: ReduceLROnPlateau reducing learning rate to 0.0009200000436976552.\n",
      "\n",
      "Epoch 00015: val_accuracy did not improve from 0.81214\n",
      "53246/53246 [==============================] - 120s 2ms/sample - loss: 0.5349 - accuracy: 0.8091 - val_loss: 0.5588 - val_accuracy: 0.8007\n",
      "Epoch 16/60\n",
      "53216/53246 [============================>.] - ETA: 0s - loss: 0.3643 - accuracy: 0.8683\n",
      "Epoch 00028: val_accuracy improved from 0.84071 to 0.85491, saving model to model.h5\n",
      "53246/53246 [==============================] - 119s 2ms/sample - loss: 0.3643 - accuracy: 0.8683 - val_loss: 0.4258 - val_accuracy: 0.8549\n",
      "Epoch 29/60\n",
      "53216/53246 [============================>.] - ETA: 0s - loss: 0.3188 - accuracy: 0.8843\n",
      "Epoch 00032: val_accuracy improved from 0.85508 to 0.85710, saving model to model.h5\n",
      "53246/53246 [==============================] - 122s 2ms/sample - loss: 0.3188 - accuracy: 0.8843 - val_loss: 0.4140 - val_accuracy: 0.8571\n",
      "Epoch 33/60\n",
      "13408/53246 [======>.......................] - ETA: 1:22 - loss: 0.3112 - accuracy: 0.8891\n",
      "Epoch 00036: val_accuracy did not improve from 0.86166\n",
      "53246/53246 [==============================] - 127s 2ms/sample - loss: 0.2850 - accuracy: 0.8970 - val_loss: 0.4168 - val_accuracy: 0.8612\n",
      "Epoch 37/60\n",
      "53216/53246 [============================>.] - ETA: 0s - loss: 0.2373 - accuracy: 0.9145\n",
      "Epoch 00041: val_accuracy did not improve from 0.87060\n",
      "53246/53246 [==============================] - 126s 2ms/sample - loss: 0.2373 - accuracy: 0.9145 - val_loss: 0.4456 - val_accuracy: 0.8572\n",
      "Epoch 42/60\n",
      "53216/53246 [============================>.] - ETA: 0s - loss: 0.2296 - accuracy: 0.9168\n",
      "Epoch 00042: ReduceLROnPlateau reducing learning rate to 0.0006063550361432136.\n",
      "\n",
      "Epoch 00042: val_accuracy did not improve from 0.87060\n",
      "53246/53246 [==============================] - 119s 2ms/sample - loss: 0.2296 - accuracy: 0.9168 - val_loss: 0.4126 - val_accuracy: 0.8679\n",
      "Epoch 43/60\n",
      " 9760/53246 [====>.........................] - ETA: 1:28 - loss: 0.2016 - accuracy: 0.9269"
     ]
    }
   ],
   "source": [
    "history = model.fit(X_train, y_train, epochs=epoch, \n",
    "                    validation_data=(X_cv, y_cv), \n",
    "                    callbacks=callbacks,verbose=1)"
   ]
  },
  {
   "cell_type": "code",
   "execution_count": 76,
   "metadata": {},
   "outputs": [],
   "source": [
    "def plot_graphs(history, string):\n",
    "    plt.plot(history.history[string])\n",
    "    plt.xlabel(\"Epochs\")\n",
    "    plt.ylabel(string)\n",
    "    plt.show()"
   ]
  },
  {
   "cell_type": "code",
   "execution_count": 77,
   "metadata": {},
   "outputs": [
    {
     "data": {
      "image/png": "[encoded data removed]",
      "text/plain": [
       "<Figure size 432x288 with 1 Axes>"
      ]
     },
     "metadata": {
      "needs_background": "light"
     },
     "output_type": "display_data"
    },
    {
     "data": {
      "image/png": "[encoded data removed]",
      "text/plain": [
       "<Figure size 432x288 with 1 Axes>"
      ]
     },
     "metadata": {
      "needs_background": "light"
     },
     "output_type": "display_data"
    }
   ],
   "source": [
    "plot_graphs(history, 'val_accuracy')\n",
    "plot_graphs(history, 'val_loss')"
   ]
  },
  {
   "cell_type": "code",
   "execution_count": null,
   "metadata": {},
   "outputs": [],
   "source": []
  },
  {
   "cell_type": "code",
   "execution_count": null,
   "metadata": {},
   "outputs": [],
   "source": []
  }
 ],
 "metadata": {
  "kernelspec": {
   "display_name": "Python 3",
   "language": "python",
   "name": "python3"
  },
  "language_info": {
   "codemirror_mode": {
    "name": "ipython",
    "version": 3
   },
   "file_extension": ".py",
   "mimetype": "text/x-python",
   "name": "python",
   "nbconvert_exporter": "python",
   "pygments_lexer": "ipython3",
   "version": "3.7.4"
  }
 },
 "nbformat": 4,
 "nbformat_minor": 4
}
