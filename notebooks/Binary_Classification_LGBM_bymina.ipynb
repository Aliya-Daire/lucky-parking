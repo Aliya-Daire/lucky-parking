{
 "cells": [
  {
   "cell_type": "code",
   "execution_count": 2,
   "metadata": {},
   "outputs": [],
   "source": [
    "from sklearn.ensemble import RandomForestClassifier\n",
    "from sklearn.ensemble import ExtraTreesClassifier\n",
    "from sklearn.tree import DecisionTreeClassifier\n",
    "from sklearn.preprocessing import StandardScaler\n",
    "from sklearn.metrics import auc,roc_auc_score\n",
    "from catboost import CatBoostClassifier,Pool, cv\n",
    "from sklearn.preprocessing import LabelEncoder\n",
    "from lightgbm import LGBMClassifier\n",
    "from sklearn.metrics import roc_curve, auc, classification_report, confusion_matrix, accuracy_score\n",
    "from sklearn.model_selection import train_test_split, cross_val_score, KFold, StratifiedKFold\n",
    "\n",
    "import pandas as pd\n",
    "import numpy as np\n",
    "import seaborn as sns\n",
    "import matplotlib.pyplot as plt\n",
    "import datetime\n",
    "from datetime import time\n",
    "sns.set()\n",
    "%matplotlib inline\n",
    "\n",
    "import geopandas\n",
    "from geopandas import GeoDataFrame\n",
    "from shapely.geometry import Point\n",
    "\n",
    "import warnings\n",
    "warnings.filterwarnings(\"ignore\")"
   ]
  },
  {
   "cell_type": "markdown",
   "metadata": {},
   "source": [
    "**1) This part is based on prior feature engineering notebook**\n",
    "\n",
    "https://github.com/hackforla/lucky-parking/blob/master/notebooks/LuckyParkingAnalysis.ipynb"
   ]
  },
  {
   "cell_type": "code",
   "execution_count": 3,
   "metadata": {},
   "outputs": [
    {
     "name": "stdout",
     "output_type": "stream",
     "text": [
      "(8706412, 18)\n"
     ]
    }
   ],
   "source": [
    "df = pd.read_csv('../input/parking-citation-data/Parking_Citations_After_July_1_2015.csv')\n",
    "print(df.shape)"
   ]
  },
  {
   "cell_type": "code",
   "execution_count": 4,
   "metadata": {},
   "outputs": [
    {
     "data": {
      "text/html": [
       "<div>\n",
       "<style scoped>\n",
       "    .dataframe tbody tr th:only-of-type {\n",
       "        vertical-align: middle;\n",
       "    }\n",
       "\n",
       "    .dataframe tbody tr th {\n",
       "        vertical-align: top;\n",
       "    }\n",
       "\n",
       "    .dataframe thead th {\n",
       "        text-align: right;\n",
       "    }\n",
       "</style>\n",
       "<table border=\"1\" class=\"dataframe\">\n",
       "  <thead>\n",
       "    <tr style=\"text-align: right;\">\n",
       "      <th></th>\n",
       "      <th>Ticket number</th>\n",
       "      <th>Issue Date</th>\n",
       "      <th>Issue time</th>\n",
       "      <th>Meter Id</th>\n",
       "      <th>Marked Time</th>\n",
       "      <th>RP State Plate</th>\n",
       "      <th>VIN</th>\n",
       "      <th>Make</th>\n",
       "      <th>Body Style</th>\n",
       "      <th>Color</th>\n",
       "      <th>Location</th>\n",
       "      <th>Route</th>\n",
       "      <th>Agency</th>\n",
       "      <th>Violation code</th>\n",
       "      <th>Violation Description</th>\n",
       "      <th>Fine amount</th>\n",
       "      <th>Latitude</th>\n",
       "      <th>Longitude</th>\n",
       "    </tr>\n",
       "  </thead>\n",
       "  <tbody>\n",
       "    <tr>\n",
       "      <th>0</th>\n",
       "      <td>4361370075</td>\n",
       "      <td>2019/09/17 12:00:00 AM</td>\n",
       "      <td>817.0</td>\n",
       "      <td>NaN</td>\n",
       "      <td>NaN</td>\n",
       "      <td>LA</td>\n",
       "      <td>NaN</td>\n",
       "      <td>MERC</td>\n",
       "      <td>PA</td>\n",
       "      <td>RD</td>\n",
       "      <td>1324 84TH PL W</td>\n",
       "      <td>00551</td>\n",
       "      <td>55.0</td>\n",
       "      <td>80.69BS</td>\n",
       "      <td>NO PARK/STREET CLEAN</td>\n",
       "      <td>73</td>\n",
       "      <td>6.471017e+06</td>\n",
       "      <td>1.808559e+06</td>\n",
       "    </tr>\n",
       "    <tr>\n",
       "      <th>1</th>\n",
       "      <td>4361370064</td>\n",
       "      <td>2019/09/17 12:00:00 AM</td>\n",
       "      <td>811.0</td>\n",
       "      <td>VM48</td>\n",
       "      <td>NaN</td>\n",
       "      <td>CA</td>\n",
       "      <td>NaN</td>\n",
       "      <td>BUIC</td>\n",
       "      <td>PA</td>\n",
       "      <td>GN</td>\n",
       "      <td>1000 85TH ST W</td>\n",
       "      <td>00551</td>\n",
       "      <td>55.0</td>\n",
       "      <td>88.13B+</td>\n",
       "      <td>METER EXP.</td>\n",
       "      <td>63</td>\n",
       "      <td>6.473192e+06</td>\n",
       "      <td>1.808298e+06</td>\n",
       "    </tr>\n",
       "    <tr>\n",
       "      <th>2</th>\n",
       "      <td>4361370053</td>\n",
       "      <td>2019/09/17 12:00:00 AM</td>\n",
       "      <td>809.0</td>\n",
       "      <td>NaN</td>\n",
       "      <td>NaN</td>\n",
       "      <td>CA</td>\n",
       "      <td>NaN</td>\n",
       "      <td>TOYT</td>\n",
       "      <td>PA</td>\n",
       "      <td>GY</td>\n",
       "      <td>1000 85TH ST W</td>\n",
       "      <td>00551</td>\n",
       "      <td>55.0</td>\n",
       "      <td>80.69BS</td>\n",
       "      <td>NO PARK/STREET CLEAN</td>\n",
       "      <td>73</td>\n",
       "      <td>6.473192e+06</td>\n",
       "      <td>1.808298e+06</td>\n",
       "    </tr>\n",
       "    <tr>\n",
       "      <th>3</th>\n",
       "      <td>4361370042</td>\n",
       "      <td>2019/09/17 12:00:00 AM</td>\n",
       "      <td>805.0</td>\n",
       "      <td>NaN</td>\n",
       "      <td>NaN</td>\n",
       "      <td>CA</td>\n",
       "      <td>NaN</td>\n",
       "      <td>NISS</td>\n",
       "      <td>PA</td>\n",
       "      <td>BK</td>\n",
       "      <td>8021 VERMONT AVE</td>\n",
       "      <td>00551</td>\n",
       "      <td>55.0</td>\n",
       "      <td>80.69BS</td>\n",
       "      <td>NO PARK/STREET CLEAN</td>\n",
       "      <td>73</td>\n",
       "      <td>6.473164e+06</td>\n",
       "      <td>1.810388e+06</td>\n",
       "    </tr>\n",
       "    <tr>\n",
       "      <th>4</th>\n",
       "      <td>4361370031</td>\n",
       "      <td>2019/09/17 12:00:00 AM</td>\n",
       "      <td>727.0</td>\n",
       "      <td>NaN</td>\n",
       "      <td>NaN</td>\n",
       "      <td>CA</td>\n",
       "      <td>NaN</td>\n",
       "      <td>HOND</td>\n",
       "      <td>PA</td>\n",
       "      <td>GY</td>\n",
       "      <td>1473 45TH ST W</td>\n",
       "      <td>00551</td>\n",
       "      <td>55.0</td>\n",
       "      <td>22500E</td>\n",
       "      <td>BLOCKING DRIVEWAY</td>\n",
       "      <td>68</td>\n",
       "      <td>6.469917e+06</td>\n",
       "      <td>1.823537e+06</td>\n",
       "    </tr>\n",
       "  </tbody>\n",
       "</table>\n",
       "</div>"
      ],
      "text/plain": [
       "  Ticket number              Issue Date  Issue time Meter Id  Marked Time  \\\n",
       "0    4361370075  2019/09/17 12:00:00 AM       817.0      NaN          NaN   \n",
       "1    4361370064  2019/09/17 12:00:00 AM       811.0     VM48          NaN   \n",
       "2    4361370053  2019/09/17 12:00:00 AM       809.0      NaN          NaN   \n",
       "3    4361370042  2019/09/17 12:00:00 AM       805.0      NaN          NaN   \n",
       "4    4361370031  2019/09/17 12:00:00 AM       727.0      NaN          NaN   \n",
       "\n",
       "  RP State Plate  VIN  Make Body Style Color          Location  Route  Agency  \\\n",
       "0             LA  NaN  MERC         PA    RD    1324 84TH PL W  00551    55.0   \n",
       "1             CA  NaN  BUIC         PA    GN    1000 85TH ST W  00551    55.0   \n",
       "2             CA  NaN  TOYT         PA    GY    1000 85TH ST W  00551    55.0   \n",
       "3             CA  NaN  NISS         PA    BK  8021 VERMONT AVE  00551    55.0   \n",
       "4             CA  NaN  HOND         PA    GY    1473 45TH ST W  00551    55.0   \n",
       "\n",
       "  Violation code Violation Description Fine amount      Latitude     Longitude  \n",
       "0        80.69BS  NO PARK/STREET CLEAN          73  6.471017e+06  1.808559e+06  \n",
       "1        88.13B+            METER EXP.          63  6.473192e+06  1.808298e+06  \n",
       "2        80.69BS  NO PARK/STREET CLEAN          73  6.473192e+06  1.808298e+06  \n",
       "3        80.69BS  NO PARK/STREET CLEAN          73  6.473164e+06  1.810388e+06  \n",
       "4         22500E     BLOCKING DRIVEWAY          68  6.469917e+06  1.823537e+06  "
      ]
     },
     "execution_count": 4,
     "metadata": {},
     "output_type": "execute_result"
    }
   ],
   "source": [
    "df.head()"
   ]
  },
  {
   "cell_type": "code",
   "execution_count": 5,
   "metadata": {},
   "outputs": [
    {
     "name": "stdout",
     "output_type": "stream",
     "text": [
      "6359739.30402891 6514332.07372465\n",
      "1715555.176091 1942668.996228\n"
     ]
    }
   ],
   "source": [
    "df = df[df['Latitude']!=99999]\n",
    "df = df[df['Longitude']!=99999]\n",
    "print(df['Latitude'].min(), df['Latitude'].max())\n",
    "print(df['Longitude'].min(), df['Longitude'].max())"
   ]
  },
  {
   "cell_type": "code",
   "execution_count": 6,
   "metadata": {},
   "outputs": [
    {
     "name": "stdout",
     "output_type": "stream",
     "text": [
      "(192383, 18)\n"
     ]
    }
   ],
   "source": [
    "x = (1850000<df['Longitude'])&(df['Longitude']<1875000)& (6490000<df['Latitude'])&(df['Latitude']<6520000)\n",
    "sdf = df[x]\n",
    "print(sdf.shape)"
   ]
  },
  {
   "cell_type": "markdown",
   "metadata": {},
   "source": [
    "**2) Only include the following variables for further processing**"
   ]
  },
  {
   "cell_type": "code",
   "execution_count": 7,
   "metadata": {},
   "outputs": [
    {
     "name": "stdout",
     "output_type": "stream",
     "text": [
      "(192383, 9)\n"
     ]
    }
   ],
   "source": [
    "final_sdf=sdf[['Issue Date', 'Issue time', 'RP State Plate', 'Agency',\n",
    "               'Location', 'Fine amount', 'Violation Description', 'Latitude', 'Longitude']]\n",
    "print(final_sdf.shape)"
   ]
  },
  {
   "cell_type": "code",
   "execution_count": 8,
   "metadata": {},
   "outputs": [
    {
     "data": {
      "text/html": [
       "<div>\n",
       "<style scoped>\n",
       "    .dataframe tbody tr th:only-of-type {\n",
       "        vertical-align: middle;\n",
       "    }\n",
       "\n",
       "    .dataframe tbody tr th {\n",
       "        vertical-align: top;\n",
       "    }\n",
       "\n",
       "    .dataframe thead th {\n",
       "        text-align: right;\n",
       "    }\n",
       "</style>\n",
       "<table border=\"1\" class=\"dataframe\">\n",
       "  <thead>\n",
       "    <tr style=\"text-align: right;\">\n",
       "      <th></th>\n",
       "      <th>Issue Date</th>\n",
       "      <th>Issue time</th>\n",
       "      <th>RP State Plate</th>\n",
       "      <th>Agency</th>\n",
       "      <th>Location</th>\n",
       "      <th>Fine amount</th>\n",
       "      <th>Violation Description</th>\n",
       "      <th>Latitude</th>\n",
       "      <th>Longitude</th>\n",
       "    </tr>\n",
       "  </thead>\n",
       "  <tbody>\n",
       "    <tr>\n",
       "      <th>152</th>\n",
       "      <td>2019/09/17 12:00:00 AM</td>\n",
       "      <td>2103.0</td>\n",
       "      <td>CA</td>\n",
       "      <td>56.0</td>\n",
       "      <td>5033 LINCOLN AVE</td>\n",
       "      <td>58</td>\n",
       "      <td>OFF STR/OVERTIME/MTR</td>\n",
       "      <td>6.499186e+06</td>\n",
       "      <td>1.866284e+06</td>\n",
       "    </tr>\n",
       "    <tr>\n",
       "      <th>153</th>\n",
       "      <td>2019/09/17 12:00:00 AM</td>\n",
       "      <td>2102.0</td>\n",
       "      <td>CA</td>\n",
       "      <td>56.0</td>\n",
       "      <td>5033 LINCOLN AVE</td>\n",
       "      <td>58</td>\n",
       "      <td>OFF STR/OVERTIME/MTR</td>\n",
       "      <td>6.499186e+06</td>\n",
       "      <td>1.866284e+06</td>\n",
       "    </tr>\n",
       "    <tr>\n",
       "      <th>154</th>\n",
       "      <td>2019/09/17 12:00:00 AM</td>\n",
       "      <td>2100.0</td>\n",
       "      <td>CA</td>\n",
       "      <td>56.0</td>\n",
       "      <td>5033 LINCOLN AVE</td>\n",
       "      <td>58</td>\n",
       "      <td>OFF STR/OVERTIME/MTR</td>\n",
       "      <td>6.499186e+06</td>\n",
       "      <td>1.866284e+06</td>\n",
       "    </tr>\n",
       "    <tr>\n",
       "      <th>155</th>\n",
       "      <td>2019/09/17 12:00:00 AM</td>\n",
       "      <td>2050.0</td>\n",
       "      <td>CA</td>\n",
       "      <td>56.0</td>\n",
       "      <td>123 AVE 57 N</td>\n",
       "      <td>58</td>\n",
       "      <td>OFF STR/OVERTIME/MTR</td>\n",
       "      <td>6.503242e+06</td>\n",
       "      <td>1.862387e+06</td>\n",
       "    </tr>\n",
       "    <tr>\n",
       "      <th>156</th>\n",
       "      <td>2019/09/17 12:00:00 AM</td>\n",
       "      <td>2049.0</td>\n",
       "      <td>CA</td>\n",
       "      <td>56.0</td>\n",
       "      <td>123 AVE 57 N</td>\n",
       "      <td>58</td>\n",
       "      <td>OFF STR/OVERTIME/MTR</td>\n",
       "      <td>6.503242e+06</td>\n",
       "      <td>1.862387e+06</td>\n",
       "    </tr>\n",
       "  </tbody>\n",
       "</table>\n",
       "</div>"
      ],
      "text/plain": [
       "                 Issue Date  Issue time RP State Plate  Agency  \\\n",
       "152  2019/09/17 12:00:00 AM      2103.0             CA    56.0   \n",
       "153  2019/09/17 12:00:00 AM      2102.0             CA    56.0   \n",
       "154  2019/09/17 12:00:00 AM      2100.0             CA    56.0   \n",
       "155  2019/09/17 12:00:00 AM      2050.0             CA    56.0   \n",
       "156  2019/09/17 12:00:00 AM      2049.0             CA    56.0   \n",
       "\n",
       "             Location Fine amount Violation Description      Latitude  \\\n",
       "152  5033 LINCOLN AVE          58  OFF STR/OVERTIME/MTR  6.499186e+06   \n",
       "153  5033 LINCOLN AVE          58  OFF STR/OVERTIME/MTR  6.499186e+06   \n",
       "154  5033 LINCOLN AVE          58  OFF STR/OVERTIME/MTR  6.499186e+06   \n",
       "155      123 AVE 57 N          58  OFF STR/OVERTIME/MTR  6.503242e+06   \n",
       "156      123 AVE 57 N          58  OFF STR/OVERTIME/MTR  6.503242e+06   \n",
       "\n",
       "        Longitude  \n",
       "152  1.866284e+06  \n",
       "153  1.866284e+06  \n",
       "154  1.866284e+06  \n",
       "155  1.862387e+06  \n",
       "156  1.862387e+06  "
      ]
     },
     "execution_count": 8,
     "metadata": {},
     "output_type": "execute_result"
    }
   ],
   "source": [
    "final_sdf.head()"
   ]
  },
  {
   "cell_type": "markdown",
   "metadata": {},
   "source": [
    "1. **3) Feature Mapping for \"RP State Plate\" and create new variable \"State\"**"
   ]
  },
  {
   "cell_type": "code",
   "execution_count": 9,
   "metadata": {},
   "outputs": [],
   "source": [
    "#Create a list to store the data\n",
    "state_plate = []\n",
    "\n",
    "#For each row in the column,\n",
    "for row in final_sdf['RP State Plate']:\n",
    "    if row == 'MX':\n",
    "        state_plate.append('Others')\n",
    "    elif row == 'VN':\n",
    "        state_plate.append('Others')\n",
    "    elif row == 'BC':\n",
    "        state_plate.append('Others')\n",
    "    elif row == 'AB':\n",
    "        state_plate.append('Others')\n",
    "    elif row == 'ON':\n",
    "        state_plate.append('Others')\n",
    "    elif row == 'NB':\n",
    "        state_plate.append('Others')\n",
    "    elif row == 'QU':\n",
    "        state_plate.append('Others')\n",
    "    elif row == 'XX':\n",
    "        state_plate.append('Others')\n",
    "    elif row == 'FN':\n",
    "        state_plate.append('Others')\n",
    "    elif row == 'CN':\n",
    "        state_plate.append('Others')\n",
    "    elif row == 'CZ':\n",
    "        state_plate.append('Others')\n",
    "    elif row == 'MB':\n",
    "        state_plate.append('Others')\n",
    "    elif row == 'AS':\n",
    "        state_plate.append('Others')\n",
    "    elif row == 'US':\n",
    "        state_plate.append('Others')\n",
    "    elif row == 'NS':\n",
    "        state_plate.append('Others')\n",
    "    elif row == 'SA':\n",
    "        state_plate.append('Others')\n",
    "    else:\n",
    "        state_plate.append(row)\n",
    "\n",
    "final_sdf['State'] = state_plate\n",
    "final_sdf['State'] = final_sdf['State'].astype('object')"
   ]
  },
  {
   "cell_type": "markdown",
   "metadata": {},
   "source": [
    "**4) Another Feature Mapping to group into Meter Expired Citation vs Meter Occupied Citation**"
   ]
  },
  {
   "cell_type": "code",
   "execution_count": 10,
   "metadata": {},
   "outputs": [],
   "source": [
    "#Create a list to store the data\n",
    "meter_exp = []\n",
    "\n",
    "#For each row in the column,\n",
    "for row in final_sdf['Violation Description']:\n",
    "    if row == 'METER EXP.':\n",
    "        meter_exp.append(1)\n",
    "    elif row == 'PARKED OVER TIME LIMIT':\n",
    "        meter_exp.append(1)\n",
    "    elif row == 'PARKED OVER TIME LIM':\n",
    "        meter_exp.append(1)\n",
    "    elif row == 'METER EXPIRED':\n",
    "        meter_exp.append(1)\n",
    "    elif row == 'COMM VEH OVER TIME LIMIT':\n",
    "        meter_exp.append(1)\n",
    "    elif row == 'OFF STR MTR/OUT LINE':\n",
    "        meter_exp.append(1)\n",
    "    elif row == 'NO EVIDENCE OF REG':\n",
    "        meter_exp.append(1)\n",
    "    elif row == 'OUTSIDE LINES/METER':\n",
    "        meter_exp.append(1)\n",
    "    elif row == 'TIME LIMIT/CITY LOT':\n",
    "        meter_exp.append(1)\n",
    "    elif row == 'EXPIRED TAGS':\n",
    "        meter_exp.append(1)\n",
    "    elif row == 'COMM VEH OVER TIME L':\n",
    "        meter_exp.append(1)\n",
    "    elif row == 'PKD OVER TIME LIMIT':\n",
    "        meter_exp.append(1)\n",
    "    elif row == 'EXCEED 72 HOURS':\n",
    "        meter_exp.append(1)\n",
    "    elif row == 'COMVEH RES/OV TM B-2':\n",
    "        meter_exp.append(1)\n",
    "    elif row == 'COMVEH RES/OV TM LMT':\n",
    "        meter_exp.append(1)\n",
    "    elif row == 'COMVEH RES/OV TM LMT ':\n",
    "        meter_exp.append(1)\n",
    "    else:\n",
    "        meter_exp.append(0)\n",
    "        \n",
    "final_sdf['Meter Exp'] = meter_exp\n",
    "final_sdf['Meter Exp']=final_sdf['Meter Exp'].astype('int8')"
   ]
  },
  {
   "cell_type": "markdown",
   "metadata": {},
   "source": [
    "**5) Time features processing with a new variable added \"Total Minutes\"**"
   ]
  },
  {
   "cell_type": "code",
   "execution_count": 11,
   "metadata": {},
   "outputs": [],
   "source": [
    "final_sdf['Time'] = pd.to_datetime(final_sdf['Issue time'], format= '%H%M', errors= \"coerce\").dt.time \n",
    "final_sdf['Hour'] = final_sdf['Time'].apply(lambda x: x.hour)\n",
    "final_sdf['Minute'] = final_sdf['Time'].apply(lambda x: x.minute)\n",
    "final_sdf['Hour'].fillna(8.0, inplace=True)\n",
    "final_sdf['Minute'].fillna(5.0, inplace=True)\n",
    "final_sdf['Total_Minutes'] = ((final_sdf['Hour']*60)+final_sdf['Minute']).astype('float32')"
   ]
  },
  {
   "cell_type": "markdown",
   "metadata": {},
   "source": [
    "**6) This part is also from Breeze's notebook**"
   ]
  },
  {
   "cell_type": "code",
   "execution_count": 12,
   "metadata": {},
   "outputs": [],
   "source": [
    "final_sdf['Fine amount'] = pd.to_numeric(final_sdf['Fine amount'], errors=\"coerce\") \n",
    "final_sdf['Issue Date'] = pd.to_datetime(final_sdf['Issue Date']) \n",
    "\n",
    "#create day of the week\n",
    "weekdays=('Monday', 'Tuesday', 'Wednesday', 'Thursday', 'Friday', 'Saturday', 'Sunday')\n",
    "final_sdf['DayofWeek'] = final_sdf['Issue Date'].apply(lambda x : weekdays[x.weekday()])\n",
    "final_sdf['Year'] = final_sdf['Issue Date'].apply(lambda x : x.year)\n",
    "final_sdf['Month'] = final_sdf['Issue Date'].apply(lambda x : x.month)"
   ]
  },
  {
   "cell_type": "markdown",
   "metadata": {},
   "source": [
    "**7) Add \"Weekend\" feature. Fill in NaN values with mode.**"
   ]
  },
  {
   "cell_type": "code",
   "execution_count": 13,
   "metadata": {},
   "outputs": [],
   "source": [
    "final_sdf['Weekend'] = (np.where(np.logical_or(final_sdf['DayofWeek']=='Saturday',\n",
    "                                              final_sdf['DayofWeek']=='Sunday'), 1, 0)).astype('int8')"
   ]
  },
  {
   "cell_type": "code",
   "execution_count": 14,
   "metadata": {},
   "outputs": [],
   "source": [
    "final_sdf['Fine amount'].fillna(68.0, inplace=True)\n",
    "final_sdf['State'].fillna('CA', inplace=True)"
   ]
  },
  {
   "cell_type": "code",
   "execution_count": 15,
   "metadata": {},
   "outputs": [],
   "source": [
    "cols = ['Agency', 'Year', 'Month']\n",
    "for c in cols:\n",
    "    final_sdf[c]=final_sdf[c].astype('int8')\n",
    "cols = ['Fine amount', 'Hour', 'Latitude', 'Longitude']\n",
    "for c in cols:\n",
    "    final_sdf[c]=final_sdf[c].astype('float32')"
   ]
  },
  {
   "cell_type": "markdown",
   "metadata": {},
   "source": [
    "**8) Drop some features**"
   ]
  },
  {
   "cell_type": "code",
   "execution_count": 16,
   "metadata": {},
   "outputs": [
    {
     "name": "stdout",
     "output_type": "stream",
     "text": [
      "(192383, 14)\n"
     ]
    }
   ],
   "source": [
    "final_sdf.drop(['RP State Plate', 'Violation Description',\n",
    "                'Issue time', 'Time', 'Minute'], axis=1, inplace=True)\n",
    "print(final_sdf.shape)"
   ]
  },
  {
   "cell_type": "markdown",
   "metadata": {},
   "source": [
    "**9) Feature Engineering for:** \n",
    "\n",
    "**a) Time/Day vs Location vs Citation**\n",
    "\n",
    "**b) Location vs Citation**\n",
    "\n",
    "**c) Time/Day vs Location**"
   ]
  },
  {
   "cell_type": "code",
   "execution_count": 17,
   "metadata": {},
   "outputs": [],
   "source": [
    "# Time/Day Vs Location Vs Citation Analysis\n",
    "final_sdf['Average Hourly Fine by Location'] = (final_sdf.groupby(['Hour', 'Location'])['Fine amount'].transform('mean')).astype('float32')\n",
    "final_sdf['Min Hourly Fine by Location'] = (final_sdf.groupby(['Hour', 'Location'])['Fine amount'].transform('min')).astype('float32')\n",
    "final_sdf['Average TMinutes Fine by Location'] = (final_sdf.groupby(['Total_Minutes', 'Location'])['Fine amount'].transform('mean')).astype('float32')\n",
    "final_sdf['Min TMinutes Fine by Location'] = (final_sdf.groupby(['Total_Minutes', 'Location'])['Fine amount'].transform('min')).astype('float32')\n",
    "final_sdf['AverageDay FineAmount by Location'] = (final_sdf.groupby(['DayofWeek','Location'])['Fine amount'].transform('mean')).astype('float32')\n",
    "final_sdf['MinDay FineAmount by Location'] = (final_sdf.groupby(['DayofWeek','Location'])['Fine amount'].transform('min')).astype('float32')\n",
    "\n",
    "# Location vs Citation Analysis\n",
    "final_sdf['Average FineAmount by StateAgency'] = (final_sdf.groupby(['Agency', 'State'])['Fine amount'].transform('mean')).astype('float32')\n",
    "final_sdf['Min FineAmount by StateAgency'] = (final_sdf.groupby(['Agency', 'State'])['Fine amount'].transform('min')).astype('float32')\n",
    "final_sdf['Average FineAmount by Location'] = (final_sdf.groupby(['Location'])['Fine amount'].transform('mean')).astype('float32')\n",
    "final_sdf['Min FineAmount by Location'] = (final_sdf.groupby(['Location'])['Fine amount'].transform('min')).astype('float32')\n",
    "\n",
    "# Time/Day vs Location Analysis\n",
    "final_sdf['Location by DayTMinutes'] = (final_sdf.groupby(['Total_Minutes','DayofWeek'])['Location'].transform('count')).astype('float32')\n",
    "final_sdf['Location by DayHour'] = (final_sdf.groupby(['Hour','DayofWeek'])['Location'].transform('count')).astype('float32')\n",
    "final_sdf['Location by MonthDayHour'] = (final_sdf.groupby(['Hour','DayofWeek', 'Month'])['Location'].transform('count')).astype('float32')\n",
    "final_sdf['Location by StateHour'] = (final_sdf.groupby(['Hour','State'])['Location'].transform('count')).astype('float32')\n",
    "\n",
    "final_sdf['State Agency'] = (final_sdf['State'].astype('str')+'_'+final_sdf['Agency'].astype('str')).astype('object')"
   ]
  },
  {
   "cell_type": "markdown",
   "metadata": {},
   "source": [
    "**10) Convert into Numerical Values**"
   ]
  },
  {
   "cell_type": "code",
   "execution_count": 18,
   "metadata": {},
   "outputs": [],
   "source": [
    "cols = [c for c in final_sdf.columns if final_sdf[c].dtypes=='object']\n",
    "for c in cols:\n",
    "    le = LabelEncoder()\n",
    "    final_sdf[c] = (le.fit_transform(final_sdf[c])).astype('int8')"
   ]
  },
  {
   "cell_type": "code",
   "execution_count": 19,
   "metadata": {},
   "outputs": [],
   "source": [
    "#cat_cols = []\n",
    "#I did not include any categorical variables here; however, it depends on problem structures and one own's preferences."
   ]
  },
  {
   "cell_type": "markdown",
   "metadata": {},
   "source": [
    "**11) Sort values by Issue Date**"
   ]
  },
  {
   "cell_type": "code",
   "execution_count": 20,
   "metadata": {},
   "outputs": [],
   "source": [
    "final_sdf.sort_values(by=['Issue Date'], inplace=True, ascending=True)"
   ]
  },
  {
   "cell_type": "markdown",
   "metadata": {},
   "source": [
    "**12) Separate into train and validation sets.** \n",
    "\n",
    "**Model used: LGBMClassifier; Metrics: binary_logloss for binary classification**"
   ]
  },
  {
   "cell_type": "code",
   "execution_count": 21,
   "metadata": {},
   "outputs": [],
   "source": [
    "y = pd.DataFrame(final_sdf['Meter Exp'])\n",
    "X = final_sdf.drop(['Issue Date', 'Meter Exp'], axis=1)"
   ]
  },
  {
   "cell_type": "markdown",
   "metadata": {},
   "source": [
    "**13) Slice Dataframe into train and validation sets based on ascending Issue Date**"
   ]
  },
  {
   "cell_type": "code",
   "execution_count": 22,
   "metadata": {},
   "outputs": [
    {
     "name": "stdout",
     "output_type": "stream",
     "text": [
      "(153913, 27) (38470, 27) (153913, 1) (38470, 1)\n"
     ]
    }
   ],
   "source": [
    "X_train = X.iloc[:153913]\n",
    "X_val = X.iloc[153913:]\n",
    "y_train = y.iloc[:153913]\n",
    "y_val = y.iloc[153913:]\n",
    "print(X_train.shape, X_val.shape, y_train.shape, y_val.shape)"
   ]
  },
  {
   "cell_type": "code",
   "execution_count": 23,
   "metadata": {},
   "outputs": [],
   "source": [
    "# You can also split by randon train_test_split as well\n",
    "#X_train, X_val, y_train, y_val = train_test_split(X, y, \n",
    "#            test_size = 0.2, random_state = 42, stratify = y)"
   ]
  },
  {
   "cell_type": "code",
   "execution_count": 24,
   "metadata": {},
   "outputs": [
    {
     "name": "stdout",
     "output_type": "stream",
     "text": [
      "Training until validation scores don't improve for 100 rounds\n",
      "[100]\ttraining's binary_logloss: 0.252939\tvalid_1's binary_logloss: 0.258299\n",
      "[200]\ttraining's binary_logloss: 0.163114\tvalid_1's binary_logloss: 0.178487\n",
      "[300]\ttraining's binary_logloss: 0.122455\tvalid_1's binary_logloss: 0.142738\n",
      "[400]\ttraining's binary_logloss: 0.101337\tvalid_1's binary_logloss: 0.124365\n",
      "[500]\ttraining's binary_logloss: 0.0897798\tvalid_1's binary_logloss: 0.114939\n",
      "[600]\ttraining's binary_logloss: 0.0797086\tvalid_1's binary_logloss: 0.106687\n",
      "[700]\ttraining's binary_logloss: 0.0739067\tvalid_1's binary_logloss: 0.102168\n",
      "[800]\ttraining's binary_logloss: 0.0693409\tvalid_1's binary_logloss: 0.0989626\n",
      "[900]\ttraining's binary_logloss: 0.0664882\tvalid_1's binary_logloss: 0.0970771\n",
      "[1000]\ttraining's binary_logloss: 0.0633594\tvalid_1's binary_logloss: 0.0949262\n",
      "[1100]\ttraining's binary_logloss: 0.0607454\tvalid_1's binary_logloss: 0.0934033\n",
      "[1200]\ttraining's binary_logloss: 0.0587462\tvalid_1's binary_logloss: 0.0921199\n",
      "[1300]\ttraining's binary_logloss: 0.0572072\tvalid_1's binary_logloss: 0.0911533\n",
      "[1400]\ttraining's binary_logloss: 0.0556101\tvalid_1's binary_logloss: 0.090486\n",
      "[1500]\ttraining's binary_logloss: 0.054221\tvalid_1's binary_logloss: 0.0898686\n",
      "[1600]\ttraining's binary_logloss: 0.0529379\tvalid_1's binary_logloss: 0.0889964\n",
      "[1700]\ttraining's binary_logloss: 0.0515606\tvalid_1's binary_logloss: 0.0881347\n",
      "[1800]\ttraining's binary_logloss: 0.0504466\tvalid_1's binary_logloss: 0.0877343\n",
      "[1900]\ttraining's binary_logloss: 0.0494036\tvalid_1's binary_logloss: 0.0872805\n",
      "[2000]\ttraining's binary_logloss: 0.0483659\tvalid_1's binary_logloss: 0.0867628\n",
      "[2100]\ttraining's binary_logloss: 0.0475711\tvalid_1's binary_logloss: 0.0865338\n",
      "[2200]\ttraining's binary_logloss: 0.0466733\tvalid_1's binary_logloss: 0.0861964\n",
      "[2300]\ttraining's binary_logloss: 0.0458118\tvalid_1's binary_logloss: 0.085672\n",
      "[2400]\ttraining's binary_logloss: 0.0450696\tvalid_1's binary_logloss: 0.0854638\n",
      "[2500]\ttraining's binary_logloss: 0.0443272\tvalid_1's binary_logloss: 0.0850524\n",
      "[2600]\ttraining's binary_logloss: 0.0435827\tvalid_1's binary_logloss: 0.0848689\n",
      "Early stopping, best iteration is:\n",
      "[2588]\ttraining's binary_logloss: 0.0436695\tvalid_1's binary_logloss: 0.0847864\n"
     ]
    }
   ],
   "source": [
    "lgb_clf = LGBMClassifier(n_estimators=2800,\n",
    "                      learning_rate=0.01,\n",
    "                      feature_fraction=0.2,\n",
    "                      bagging_fraction=0.2,\n",
    "                      min_data_in_leaf=13,\n",
    "                      max_depth=-1,\n",
    "                      num_leaves=20,\n",
    "                      early_stopping_rounds=100,\n",
    "                      bagging_freq=5,\n",
    "                      random_state=42,\n",
    "                     )\n",
    "\n",
    "lgb_clf.fit(X_train, y_train,\n",
    "      eval_set = [(X_train, y_train),(X_val, y_val.values)],\n",
    "      eval_metric = 'binary_logloss', \n",
    "      early_stopping_rounds = 100,\n",
    "      verbose = 100\n",
    "    )\n",
    "lgb_pred = lgb_clf.predict_proba(X_val)[:, -1]"
   ]
  },
  {
   "cell_type": "code",
   "execution_count": null,
   "metadata": {},
   "outputs": [],
   "source": []
  }
 ],
 "metadata": {
  "kernelspec": {
   "display_name": "Python 3",
   "language": "python",
   "name": "python3"
  },
  "language_info": {
   "codemirror_mode": {
    "name": "ipython",
    "version": 3
   },
   "file_extension": ".py",
   "mimetype": "text/x-python",
   "name": "python",
   "nbconvert_exporter": "python",
   "pygments_lexer": "ipython3",
   "version": "3.7.4"
  }
 },
 "nbformat": 4,
 "nbformat_minor": 4
}
