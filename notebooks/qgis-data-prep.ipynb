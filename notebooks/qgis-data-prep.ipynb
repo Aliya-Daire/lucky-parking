{
 "cells": [
  {
   "cell_type": "code",
   "execution_count": 1,
   "metadata": {},
   "outputs": [],
   "source": [
    "import pandas as pd\n",
    "import numpy as np"
   ]
  },
  {
   "cell_type": "code",
   "execution_count": 6,
   "metadata": {},
   "outputs": [],
   "source": [
    "raw = pd.read_csv('../data/qgis.csv', index_col=0)"
   ]
  },
  {
   "cell_type": "code",
   "execution_count": 8,
   "metadata": {},
   "outputs": [
    {
     "data": {
      "text/html": [
       "<div>\n",
       "<style scoped>\n",
       "    .dataframe tbody tr th:only-of-type {\n",
       "        vertical-align: middle;\n",
       "    }\n",
       "\n",
       "    .dataframe tbody tr th {\n",
       "        vertical-align: top;\n",
       "    }\n",
       "\n",
       "    .dataframe thead th {\n",
       "        text-align: right;\n",
       "    }\n",
       "</style>\n",
       "<table border=\"1\" class=\"dataframe\">\n",
       "  <thead>\n",
       "    <tr style=\"text-align: right;\">\n",
       "      <th></th>\n",
       "      <th>SpaceID</th>\n",
       "      <th>BlockFace</th>\n",
       "      <th>MeterType</th>\n",
       "      <th>RateType</th>\n",
       "      <th>RateRange</th>\n",
       "      <th>MeteredTimeLimit</th>\n",
       "      <th>ParkingPolicy</th>\n",
       "      <th>StreetCleaning</th>\n",
       "      <th>LatLng</th>\n",
       "      <th>Lat</th>\n",
       "      <th>Lng</th>\n",
       "    </tr>\n",
       "  </thead>\n",
       "  <tbody>\n",
       "    <tr>\n",
       "      <th>0</th>\n",
       "      <td>VS336</td>\n",
       "      <td>4900 SUNSET BL</td>\n",
       "      <td>Single-Space</td>\n",
       "      <td>FLAT</td>\n",
       "      <td>$1.00</td>\n",
       "      <td>2HR</td>\n",
       "      <td>TANS 4P-7P Mon-Fri | PKG 8A-4P Mon-Fri, 8A-8P Sat</td>\n",
       "      <td>NaN</td>\n",
       "      <td>(34.098024, -118.296664)</td>\n",
       "      <td>34.098024</td>\n",
       "      <td>-118.296664</td>\n",
       "    </tr>\n",
       "    <tr>\n",
       "      <th>1</th>\n",
       "      <td>ED396</td>\n",
       "      <td>700 E PICO BLVD</td>\n",
       "      <td>Single-Space</td>\n",
       "      <td>TOD</td>\n",
       "      <td>$0.5 - $1</td>\n",
       "      <td>2HR</td>\n",
       "      <td>8A-6P Mon-Sat</td>\n",
       "      <td>NaN</td>\n",
       "      <td>(34.032054, -118.252521)</td>\n",
       "      <td>34.032054</td>\n",
       "      <td>-118.252521</td>\n",
       "    </tr>\n",
       "    <tr>\n",
       "      <th>2</th>\n",
       "      <td>CB211A</td>\n",
       "      <td>1300 S GRAND AVE</td>\n",
       "      <td>Single-Space</td>\n",
       "      <td>FLAT</td>\n",
       "      <td>$0.50</td>\n",
       "      <td>4HR</td>\n",
       "      <td>8A-8P Mon-Sat</td>\n",
       "      <td>NaN</td>\n",
       "      <td>(34.038125, -118.264675)</td>\n",
       "      <td>34.038125</td>\n",
       "      <td>-118.264675</td>\n",
       "    </tr>\n",
       "    <tr>\n",
       "      <th>3</th>\n",
       "      <td>SL408</td>\n",
       "      <td>3100 SUNSET BL</td>\n",
       "      <td>Single-Space</td>\n",
       "      <td>FLAT</td>\n",
       "      <td>$1.00</td>\n",
       "      <td>2HR</td>\n",
       "      <td>8A-8P Mon-Sat</td>\n",
       "      <td>NaN</td>\n",
       "      <td>(34.084343, -118.274463)</td>\n",
       "      <td>34.084343</td>\n",
       "      <td>-118.274463</td>\n",
       "    </tr>\n",
       "    <tr>\n",
       "      <th>4</th>\n",
       "      <td>VN1</td>\n",
       "      <td>7001 VAN NUYS BL</td>\n",
       "      <td>Single-Space</td>\n",
       "      <td>FLAT</td>\n",
       "      <td>$1.00</td>\n",
       "      <td>2HR</td>\n",
       "      <td>8A-8P Mon-Sat</td>\n",
       "      <td>NaN</td>\n",
       "      <td>(34.198035, -118.44891)</td>\n",
       "      <td>34.198035</td>\n",
       "      <td>-118.448910</td>\n",
       "    </tr>\n",
       "  </tbody>\n",
       "</table>\n",
       "</div>"
      ],
      "text/plain": [
       "  SpaceID         BlockFace     MeterType RateType  RateRange  \\\n",
       "0   VS336    4900 SUNSET BL  Single-Space     FLAT      $1.00   \n",
       "1   ED396   700 E PICO BLVD  Single-Space      TOD  $0.5 - $1   \n",
       "2  CB211A  1300 S GRAND AVE  Single-Space     FLAT      $0.50   \n",
       "3   SL408    3100 SUNSET BL  Single-Space     FLAT      $1.00   \n",
       "4     VN1  7001 VAN NUYS BL  Single-Space     FLAT      $1.00   \n",
       "\n",
       "  MeteredTimeLimit                                      ParkingPolicy  \\\n",
       "0              2HR  TANS 4P-7P Mon-Fri | PKG 8A-4P Mon-Fri, 8A-8P Sat   \n",
       "1              2HR                                      8A-6P Mon-Sat   \n",
       "2              4HR                                      8A-8P Mon-Sat   \n",
       "3              2HR                                      8A-8P Mon-Sat   \n",
       "4              2HR                                      8A-8P Mon-Sat   \n",
       "\n",
       "  StreetCleaning                    LatLng        Lat         Lng  \n",
       "0            NaN  (34.098024, -118.296664)  34.098024 -118.296664  \n",
       "1            NaN  (34.032054, -118.252521)  34.032054 -118.252521  \n",
       "2            NaN  (34.038125, -118.264675)  34.038125 -118.264675  \n",
       "3            NaN  (34.084343, -118.274463)  34.084343 -118.274463  \n",
       "4            NaN   (34.198035, -118.44891)  34.198035 -118.448910  "
      ]
     },
     "execution_count": 8,
     "metadata": {},
     "output_type": "execute_result"
    }
   ],
   "source": [
    "raw.head()"
   ]
  },
  {
   "cell_type": "code",
   "execution_count": 22,
   "metadata": {},
   "outputs": [],
   "source": [
    "grouped = raw.groupby(['BlockFace', 'MeterType','RateType','RateRange','MeteredTimeLimit','ParkingPolicy'])\\\n",
    "    .agg({'LatLng': lambda x : ', '.join(x)})\n",
    "grouped.reset_index(inplace=True)"
   ]
  },
  {
   "cell_type": "code",
   "execution_count": 23,
   "metadata": {},
   "outputs": [],
   "source": [
    "grouped['group'] = grouped.index"
   ]
  },
  {
   "cell_type": "code",
   "execution_count": 74,
   "metadata": {},
   "outputs": [],
   "source": [
    "def rm_parentheses(s: str):\n",
    "    return s.replace('(', '').replace(')', '').replace(' ', '')\n",
    "\n",
    "def split_n(s, sep, n):\n",
    "    s = s.split(sep)\n",
    "    return [s[i:i+n] for i in range(0, len(s), n)]\n",
    "\n",
    "def split_latlng(latlng: str):\n",
    "    stripped = rm_parentheses(latlng)\n",
    "    coords = split_n(stripped, ',', 2)\n",
    "    return coords"
   ]
  },
  {
   "cell_type": "code",
   "execution_count": 76,
   "metadata": {},
   "outputs": [],
   "source": [
    "grouped['coord_list'] = grouped['LatLng'].apply(split_latlng)"
   ]
  },
  {
   "cell_type": "code",
   "execution_count": 79,
   "metadata": {},
   "outputs": [],
   "source": [
    "grouped = grouped[['group', 'coord_list']].explode('coord_list').reset_index(drop=True)\n",
    "grouped['order'] = grouped.index"
   ]
  },
  {
   "cell_type": "code",
   "execution_count": 81,
   "metadata": {},
   "outputs": [],
   "source": [
    "grouped['lat'] = [coord[0] for coord in grouped.coord_list]\n",
    "grouped['long'] = [coord[1] for coord in grouped.coord_list]"
   ]
  },
  {
   "cell_type": "code",
   "execution_count": 83,
   "metadata": {},
   "outputs": [],
   "source": [
    "df = grouped[['group', 'order', 'lat', 'long']]"
   ]
  },
  {
   "cell_type": "code",
   "execution_count": 85,
   "metadata": {},
   "outputs": [],
   "source": [
    "df.to_csv('../data/grouped_qgis.csv')"
   ]
  },
  {
   "cell_type": "code",
   "execution_count": null,
   "metadata": {},
   "outputs": [],
   "source": []
  }
 ],
 "metadata": {
  "kernelspec": {
   "display_name": "luckyparking",
   "language": "python",
   "name": "luckyparking"
  },
  "language_info": {
   "codemirror_mode": {
    "name": "ipython",
    "version": 3
   },
   "file_extension": ".py",
   "mimetype": "text/x-python",
   "name": "python",
   "nbconvert_exporter": "python",
   "pygments_lexer": "ipython3",
   "version": "3.7.7"
  }
 },
 "nbformat": 4,
 "nbformat_minor": 4
}
