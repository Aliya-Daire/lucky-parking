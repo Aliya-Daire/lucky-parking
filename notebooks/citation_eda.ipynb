{
 "cells": [
  {
   "cell_type": "code",
   "execution_count": 2,
   "metadata": {},
   "outputs": [],
   "source": [
    "import numpy as np\n",
    "import pandas as pd\n",
    "import datetime as dt\n",
    "\n",
    "from sodapy import Socrata"
   ]
  },
  {
   "cell_type": "code",
   "execution_count": 3,
   "metadata": {
    "scrolled": true
   },
   "outputs": [
    {
     "name": "stderr",
     "output_type": "stream",
     "text": [
      "WARNING:root:Requests made without an app_token will be subject to strict throttling limits.\n"
     ]
    }
   ],
   "source": [
    "client = Socrata(\"data.lacity.org\", None)"
   ]
  },
  {
   "cell_type": "code",
   "execution_count": 9,
   "metadata": {},
   "outputs": [],
   "source": [
    "def get_results(date, client):\n",
    "    results = client.get('wjz9-h9np',\n",
    "                        where=f'issue_date==\"{date}\"',\n",
    "                        limit=50000)\n",
    "    results_df = pd.DataFrame.from_records(results)\n",
    "    return results_df"
   ]
  },
  {
   "cell_type": "code",
   "execution_count": 24,
   "metadata": {
    "scrolled": true
   },
   "outputs": [
    {
     "name": "stdout",
     "output_type": "stream",
     "text": [
      "2015-01-01\n",
      "2015-02-01\n",
      "2015-03-01\n",
      "2015-04-01\n",
      "2015-05-01\n",
      "2015-06-01\n",
      "2015-07-01\n",
      "2015-08-01\n",
      "2015-09-01\n",
      "2015-10-01\n",
      "2015-11-01\n",
      "2015-12-01\n",
      "2016-01-01\n",
      "2016-02-01\n",
      "2016-03-01\n",
      "2016-04-01\n",
      "2016-05-01\n",
      "2016-06-01\n",
      "2016-07-01\n",
      "2016-08-01\n",
      "2016-09-01\n",
      "2016-10-01\n",
      "2016-11-01\n",
      "2016-12-01\n",
      "2017-01-01\n",
      "2017-02-01\n",
      "2017-03-01\n",
      "2017-04-01\n",
      "2017-05-01\n",
      "2017-06-01\n",
      "2017-07-01\n",
      "2017-08-01\n",
      "2017-09-01\n",
      "2017-10-01\n",
      "2017-11-01\n",
      "2017-12-01\n",
      "2018-01-01\n",
      "2018-02-01\n",
      "2018-03-01\n",
      "2018-04-01\n",
      "2018-05-01\n",
      "2018-06-01\n",
      "2018-07-01\n",
      "2018-08-01\n",
      "2018-09-01\n",
      "2018-10-01\n",
      "2018-11-01\n",
      "2018-12-01\n",
      "2019-01-01\n",
      "2019-02-01\n",
      "2019-03-01\n",
      "2019-04-01\n",
      "2019-05-01\n",
      "2019-06-01\n",
      "2019-07-01\n",
      "2019-08-01\n",
      "2019-09-01\n",
      "2019-10-01\n",
      "2019-11-01\n",
      "2019-12-01\n",
      "2020-01-01\n",
      "2020-02-01\n",
      "2020-03-01\n",
      "2020-04-01\n",
      "2020-05-01\n",
      "2020-06-01\n"
     ]
    }
   ],
   "source": [
    "date = []\n",
    "count = []\n",
    "fines = []\n",
    "\n",
    "i_date = dt.date(2015, 1, 1)\n",
    "delta = dt.timedelta(days=1)\n",
    "\n",
    "while i_date < dt.date.today() - delta:\n",
    "    # print progression\n",
    "    if i_date.day == 1:\n",
    "        print(i_date)\n",
    "        \n",
    "    results_df = get_results(i_date, client)\n",
    "    if len(results_df) > 0:\n",
    "        if 'fine_amount' in results_df.columns:\n",
    "            fine_total = np.sum(results_df['fine_amount'].fillna(0).astype(float))  \n",
    "        else:\n",
    "            fine_total = 0\n",
    "\n",
    "        date.append(i_date)\n",
    "        count.append(len(results_df))\n",
    "        fines.append(fine_total)\n",
    "    \n",
    "    i_date += delta\n",
    "    \n",
    "df = pd.DataFrame({\n",
    "    'date' : date,\n",
    "    'count' : count,\n",
    "    'fines' : fines\n",
    "})"
   ]
  },
  {
   "cell_type": "code",
   "execution_count": 28,
   "metadata": {},
   "outputs": [],
   "source": [
    "df.to_csv('../data/citations_ts.csv', index=False)"
   ]
  },
  {
   "cell_type": "code",
   "execution_count": 4,
   "metadata": {},
   "outputs": [],
   "source": [
    "date = dt.date(2020, 6, 28)\n",
    "\n",
    "results = client.get('wjz9-h9np',\n",
    "                    where=f'issue_date==\"{date}\"',\n",
    "                    limit=50000)\n",
    "results_df = pd.DataFrame.from_records(results)"
   ]
  },
  {
   "cell_type": "code",
   "execution_count": 6,
   "metadata": {
    "scrolled": true
   },
   "outputs": [
    {
     "data": {
      "text/html": [
       "<div>\n",
       "<style scoped>\n",
       "    .dataframe tbody tr th:only-of-type {\n",
       "        vertical-align: middle;\n",
       "    }\n",
       "\n",
       "    .dataframe tbody tr th {\n",
       "        vertical-align: top;\n",
       "    }\n",
       "\n",
       "    .dataframe thead th {\n",
       "        text-align: right;\n",
       "    }\n",
       "</style>\n",
       "<table border=\"1\" class=\"dataframe\">\n",
       "  <thead>\n",
       "    <tr style=\"text-align: right;\">\n",
       "      <th></th>\n",
       "      <th>ticket_number</th>\n",
       "      <th>issue_date</th>\n",
       "      <th>issue_time</th>\n",
       "      <th>rp_state_plate</th>\n",
       "      <th>plate_expiry_date</th>\n",
       "      <th>make</th>\n",
       "      <th>body_style</th>\n",
       "      <th>color</th>\n",
       "      <th>location</th>\n",
       "      <th>agency</th>\n",
       "      <th>violation_code</th>\n",
       "      <th>fine_amount</th>\n",
       "      <th>latitude</th>\n",
       "      <th>longitude</th>\n",
       "      <th>agency_desc</th>\n",
       "      <th>color_desc</th>\n",
       "      <th>body_style_desc</th>\n",
       "    </tr>\n",
       "  </thead>\n",
       "  <tbody>\n",
       "    <tr>\n",
       "      <th>0</th>\n",
       "      <td>1113535555</td>\n",
       "      <td>2020-06-28T00:00:00.000</td>\n",
       "      <td>1856</td>\n",
       "      <td>CA</td>\n",
       "      <td>202005</td>\n",
       "      <td>INF</td>\n",
       "      <td>PA</td>\n",
       "      <td>GY</td>\n",
       "      <td>2800 E OBSERVATORY</td>\n",
       "      <td>4</td>\n",
       "      <td>8813A</td>\n",
       "      <td>63</td>\n",
       "      <td>6470141.350488</td>\n",
       "      <td>1867430.382196</td>\n",
       "      <td>HOLLYWOOD</td>\n",
       "      <td>GREY</td>\n",
       "      <td>PASSENGER CAR</td>\n",
       "    </tr>\n",
       "  </tbody>\n",
       "</table>\n",
       "</div>"
      ],
      "text/plain": [
       "  ticket_number               issue_date issue_time rp_state_plate  \\\n",
       "0    1113535555  2020-06-28T00:00:00.000       1856             CA   \n",
       "\n",
       "  plate_expiry_date make body_style color            location agency  \\\n",
       "0            202005  INF         PA    GY  2800 E OBSERVATORY      4   \n",
       "\n",
       "  violation_code fine_amount        latitude       longitude agency_desc  \\\n",
       "0          8813A          63  6470141.350488  1867430.382196   HOLLYWOOD   \n",
       "\n",
       "  color_desc body_style_desc  \n",
       "0       GREY   PASSENGER CAR  "
      ]
     },
     "execution_count": 6,
     "metadata": {},
     "output_type": "execute_result"
    }
   ],
   "source": [
    "results_df"
   ]
  },
  {
   "cell_type": "code",
   "execution_count": 7,
   "metadata": {},
   "outputs": [
    {
     "data": {
      "text/plain": [
       "63.0"
      ]
     },
     "execution_count": 7,
     "metadata": {},
     "output_type": "execute_result"
    }
   ],
   "source": [
    "np.sum(results_df['fine_amount'].fillna(0).astype(float))   "
   ]
  }
 ],
 "metadata": {
  "kernelspec": {
   "display_name": "lucky",
   "language": "python",
   "name": "lucky"
  },
  "language_info": {
   "codemirror_mode": {
    "name": "ipython",
    "version": 3
   },
   "file_extension": ".py",
   "mimetype": "text/x-python",
   "name": "python",
   "nbconvert_exporter": "python",
   "pygments_lexer": "ipython3",
   "version": "3.8.3"
  }
 },
 "nbformat": 4,
 "nbformat_minor": 4
}
