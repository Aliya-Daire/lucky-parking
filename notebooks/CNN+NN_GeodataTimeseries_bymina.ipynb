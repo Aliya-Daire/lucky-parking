{
 "cells": [
  {
   "cell_type": "markdown",
   "metadata": {},
   "source": [
    "This notebook displays applications of Deep Learning Convolutional Neural Networks and Simple Neural Networks \n",
    "\n",
    "for Multi Zipcodes Classification based on Timestamp and GeoAnalysis for Parking Citation\n",
    "\n",
    "1) the work is also inspired from Breeze's great analysis:\n",
    "\n",
    "https://github.com/hackforla/lucky-parking/blob/master/notebooks/one-hot%20encode_DNN2.ipynb\n",
    "\n",
    "2) Since Deep Learning consumes huge memory space, data is first processed and saved as pickle file\n",
    "\n",
    "3) Train and Validation split is based on ascending Issue Date\n",
    "\n",
    "4) Both simple CNN+NN blocks are implemented with BatchNorm, Dropout, Initializers\n",
    "\n",
    "5) Early stopping is limited to 1 or 3 only; no learning rate reduction applied due to time constraint\n",
    "\n",
    "6) Still, both validation loss and accuracy are improving\n",
    "\n",
    "7) So far no overfitting issue detected; only tiny discrepancy for loss+accuracy between train and validation sets\n",
    "\n",
    "8) 1st iteration for CNN: train_loss: 0.1578 - train_accuracy: 0.9300, val_loss: 0.0554 - val_accuracy: 0.9782\n",
    "\n",
    "9) 1st iteration for NN: train_loss: 0.4843 - train_accuracy: 0.7966, val_loss: 0.1478 - val_accuracy: 0.9480\n",
    "\n",
    "10) 2nd or best iteration for CNN: train_loss: 0.0765 - train_accuracy: 0.9680, val_loss: 0.0499 - val_accuracy: 0.9798\n",
    "\n",
    "11) 3rd or best iteration for NN: train_loss: 0.0936 - train_accuracy: 0.9666, val_loss: 0.0684 - val_accuracy: 0.9753\n",
    "\n",
    "13) This is only the first round of Deep Learning implementation and the result can be improved by higher early stopping, setting learning rate reduction, tuning hyperparameters, trying out different model structures and applications,..."
   ]
  },
  {
   "cell_type": "code",
   "execution_count": 2,
   "metadata": {},
   "outputs": [],
   "source": [
    "#machine learning libraries\n",
    "from sklearn.preprocessing import StandardScaler\n",
    "from sklearn.metrics import auc,roc_auc_score\n",
    "from catboost import CatBoostClassifier,Pool, cv\n",
    "from sklearn.preprocessing import LabelEncoder\n",
    "from lightgbm import LGBMClassifier\n",
    "from sklearn.metrics import roc_curve, auc, classification_report, confusion_matrix, accuracy_score\n",
    "from sklearn.model_selection import train_test_split, cross_val_score, KFold, StratifiedKFold\n",
    "\n",
    "import pandas as pd\n",
    "import numpy as np\n",
    "import seaborn as sns\n",
    "import matplotlib.pyplot as plt\n",
    "import datetime\n",
    "from datetime import time\n",
    "sns.set()\n",
    "%matplotlib inline\n",
    "import geopandas\n",
    "from geopandas import GeoDataFrame\n",
    "from shapely.geometry import Point\n",
    "import pyproj\n",
    "\n",
    "import warnings\n",
    "warnings.filterwarnings(\"ignore\")"
   ]
  },
  {
   "cell_type": "code",
   "execution_count": 3,
   "metadata": {},
   "outputs": [],
   "source": [
    "# Deep Learning Libraries\n",
    "from tensorflow import keras\n",
    "from tensorflow.keras import Sequential\n",
    "from tensorflow.keras.layers import Flatten,Dense,Dropout,BatchNormalization\n",
    "from tensorflow.keras.layers import Conv1D,MaxPool1D\n",
    "from tensorflow.keras.optimizers import Adam\n",
    "from tensorflow.keras.callbacks import EarlyStopping, ReduceLROnPlateau\n",
    "from tensorflow.keras import callbacks"
   ]
  },
  {
   "cell_type": "code",
   "execution_count": 4,
   "metadata": {},
   "outputs": [],
   "source": [
    "# Load dataset\n",
    "final_sdf = pd.read_pickle('../input/final-sdf-data/final_sdf.pkl')"
   ]
  },
  {
   "cell_type": "code",
   "execution_count": 5,
   "metadata": {},
   "outputs": [],
   "source": [
    "final_sdf['Zip_Num']=final_sdf['Zip_Num'].map({\n",
    "90042:0,\n",
    "90041:1,\n",
    "90065:2,\n",
    "90031:3,\n",
    "90032:4,\n",
    "})\n",
    "final_sdf['Zip_Num']=final_sdf['Zip_Num'].astype('int32')"
   ]
  },
  {
   "cell_type": "code",
   "execution_count": 6,
   "metadata": {},
   "outputs": [],
   "source": [
    "final_sdf.sort_values(by=['Issue Date'], inplace=True, ascending=True)"
   ]
  },
  {
   "cell_type": "code",
   "execution_count": 7,
   "metadata": {},
   "outputs": [],
   "source": [
    "final_sdf.drop(['Issue Date'], axis=1, inplace=True)"
   ]
  },
  {
   "cell_type": "code",
   "execution_count": 8,
   "metadata": {},
   "outputs": [],
   "source": [
    "X = final_sdf.drop(labels=['Zip_Num'], axis=1)\n",
    "y = final_sdf['Zip_Num'].values"
   ]
  },
  {
   "cell_type": "markdown",
   "metadata": {},
   "source": [
    "Here, we slice dataframe into train and validataion sets by ascending Issue Date\n",
    "\n",
    "We can also try many other options such as StratifiedKFold, KFold,...."
   ]
  },
  {
   "cell_type": "code",
   "execution_count": 9,
   "metadata": {},
   "outputs": [
    {
     "name": "stdout",
     "output_type": "stream",
     "text": [
      "(153913, 104) (38470, 104) (153913,) (38470,)\n"
     ]
    }
   ],
   "source": [
    "X_train = X[:153913]\n",
    "X_cv = X[153913:]\n",
    "y_train = y[:153913]\n",
    "y_cv = y[153913:]\n",
    "print(X_train.shape, X_cv.shape, y_train.shape, y_cv.shape)"
   ]
  },
  {
   "cell_type": "code",
   "execution_count": 10,
   "metadata": {},
   "outputs": [],
   "source": [
    "X_train = X_train.to_numpy()\n",
    "X_cv = X_cv.to_numpy()"
   ]
  },
  {
   "cell_type": "code",
   "execution_count": 11,
   "metadata": {},
   "outputs": [],
   "source": [
    "X_train = X_train.reshape(X_train.shape[0],X_train.shape[1],1)\n",
    "X_cv = X_cv.reshape(X_cv.shape[0],X_cv.shape[1],1)"
   ]
  },
  {
   "cell_type": "code",
   "execution_count": 12,
   "metadata": {},
   "outputs": [],
   "source": [
    "# Convolutional Neural Networks (CNN)\n",
    "epoch = 40\n",
    "model = Sequential()\n",
    "model.add(Conv1D(40,2,activation='elu',kernel_initializer='he_normal',input_shape = X_train[0].shape))\n",
    "model.add(BatchNormalization())\n",
    "\n",
    "model.add(Conv1D(70,2,activation='elu', kernel_initializer='he_normal'))\n",
    "model.add(BatchNormalization())\n",
    "model.add(Dropout(0.4))\n",
    "\n",
    "model.add(Conv1D(100,2,activation='elu', kernel_initializer='he_normal'))\n",
    "model.add(BatchNormalization())\n",
    "model.add(Dropout(0.5))\n",
    "\n",
    "model.add(Conv1D(100,2,activation='elu', kernel_initializer='he_normal'))\n",
    "model.add(BatchNormalization())\n",
    "\n",
    "model.add(Flatten())\n",
    "model.add(Dense(64,activation='elu', kernel_initializer='he_normal'))\n",
    "\n",
    "model.add(Dense(5,activation='softmax'))"
   ]
  },
  {
   "cell_type": "code",
   "execution_count": 13,
   "metadata": {},
   "outputs": [
    {
     "name": "stdout",
     "output_type": "stream",
     "text": [
      "Model: \"sequential\"\n",
      "_________________________________________________________________\n",
      "Layer (type)                 Output Shape              Param #   \n",
      "=================================================================\n",
      "conv1d (Conv1D)              (None, 103, 40)           120       \n",
      "_________________________________________________________________\n",
      "batch_normalization (BatchNo (None, 103, 40)           160       \n",
      "_________________________________________________________________\n",
      "conv1d_1 (Conv1D)            (None, 102, 70)           5670      \n",
      "_________________________________________________________________\n",
      "batch_normalization_1 (Batch (None, 102, 70)           280       \n",
      "_________________________________________________________________\n",
      "dropout (Dropout)            (None, 102, 70)           0         \n",
      "_________________________________________________________________\n",
      "conv1d_2 (Conv1D)            (None, 101, 100)          14100     \n",
      "_________________________________________________________________\n",
      "batch_normalization_2 (Batch (None, 101, 100)          400       \n",
      "_________________________________________________________________\n",
      "dropout_1 (Dropout)          (None, 101, 100)          0         \n",
      "_________________________________________________________________\n",
      "conv1d_3 (Conv1D)            (None, 100, 100)          20100     \n",
      "_________________________________________________________________\n",
      "batch_normalization_3 (Batch (None, 100, 100)          400       \n",
      "_________________________________________________________________\n",
      "flatten (Flatten)            (None, 10000)             0         \n",
      "_________________________________________________________________\n",
      "dense (Dense)                (None, 64)                640064    \n",
      "_________________________________________________________________\n",
      "dense_1 (Dense)              (None, 5)                 325       \n",
      "=================================================================\n",
      "Total params: 681,619\n",
      "Trainable params: 680,999\n",
      "Non-trainable params: 620\n",
      "_________________________________________________________________\n"
     ]
    }
   ],
   "source": [
    "model.summary()"
   ]
  },
  {
   "cell_type": "code",
   "execution_count": 14,
   "metadata": {},
   "outputs": [],
   "source": [
    "model.compile(optimizer=Adam(lr=0.001), loss = 'sparse_categorical_crossentropy', metrics=['accuracy'])"
   ]
  },
  {
   "cell_type": "code",
   "execution_count": 15,
   "metadata": {},
   "outputs": [],
   "source": [
    "earlystop = EarlyStopping(patience=1) # definitely should be set higher for better performance\n",
    "#learning_rate_reduction = ReduceLROnPlateau(monitor='val_acc', \n",
    "#                                            patience=2, \n",
    "#                                            verbose=1, \n",
    "#                                            factor=0.88, \n",
    "#                                            min_lr=0.00001)\n",
    "callbacks = [earlystop, #learning_rate_reduction\n",
    "            ]\n",
    "# Not including learning_rate_reduction here due to time constraint "
   ]
  },
  {
   "cell_type": "code",
   "execution_count": 16,
   "metadata": {},
   "outputs": [
    {
     "name": "stdout",
     "output_type": "stream",
     "text": [
      "Train on 153913 samples, validate on 38470 samples\n",
      "Epoch 1/40\n",
      "153913/153913 [==============================] - 173s 1ms/sample - loss: 0.1578 - accuracy: 0.9300 - val_loss: 0.0554 - val_accuracy: 0.9782\n",
      "Epoch 2/40\n",
      "153913/153913 [==============================] - 175s 1ms/sample - loss: 0.0765 - accuracy: 0.9680 - val_loss: 0.0499 - val_accuracy: 0.9798\n",
      "Epoch 3/40\n",
      "  7520/153913 [>.............................] - ETA: 2:41 - loss: 0.0586 - accuracy: 0.9743"
     ]
    }
   ],
   "source": [
    "history = model.fit(X_train, y_train, epochs=epoch, \n",
    "                    validation_data=(X_cv, y_cv), \n",
    "                    callbacks=callbacks,verbose=1)"
   ]
  },
  {
   "cell_type": "code",
   "execution_count": 17,
   "metadata": {},
   "outputs": [],
   "source": [
    "def plot_graphs(history, string):\n",
    "    plt.plot(history.history[string])\n",
    "    plt.xlabel(\"Epochs\")\n",
    "    plt.ylabel(string)\n",
    "    plt.show()"
   ]
  },
  {
   "cell_type": "code",
   "execution_count": 18,
   "metadata": {},
   "outputs": [
    {
     "data": {
      "image/png": "[encoded data removed]",
      "text/plain": [
       "<Figure size 432x288 with 1 Axes>"
      ]
     },
     "metadata": {
      "needs_background": "light"
     },
     "output_type": "display_data"
    },
    {
     "data": {
      "image/png": "[encoded data removed]",
      "text/plain": [
       "<Figure size 432x288 with 1 Axes>"
      ]
     },
     "metadata": {
      "needs_background": "light"
     },
     "output_type": "display_data"
    }
   ],
   "source": [
    "plot_graphs(history, 'val_accuracy')\n",
    "plot_graphs(history, 'val_loss')"
   ]
  },
  {
   "cell_type": "code",
   "execution_count": 19,
   "metadata": {},
   "outputs": [],
   "source": [
    "# Neural Networks Only\n",
    "epoch = 40\n",
    "model = Sequential()\n",
    "model.add(Dense(70,activation='elu',kernel_initializer='he_normal',input_shape = X_train[0].shape))\n",
    "model.add(BatchNormalization())\n",
    "\n",
    "model.add(Dense(130,activation='elu', kernel_initializer='he_normal'))\n",
    "model.add(BatchNormalization())\n",
    "model.add(Dropout(0.45))\n",
    "\n",
    "model.add(Dense(200,activation='elu', kernel_initializer='he_normal'))\n",
    "model.add(BatchNormalization())\n",
    "model.add(Dropout(0.55))\n",
    "\n",
    "model.add(Dense(130,activation='elu', kernel_initializer='he_normal'))\n",
    "model.add(BatchNormalization())\n",
    "\n",
    "model.add(Flatten())\n",
    "model.add(Dense(60,activation='elu', kernel_initializer='he_normal'))\n",
    "\n",
    "model.add(Dense(5,activation='softmax'))"
   ]
  },
  {
   "cell_type": "code",
   "execution_count": 20,
   "metadata": {},
   "outputs": [
    {
     "name": "stdout",
     "output_type": "stream",
     "text": [
      "Model: \"sequential_1\"\n",
      "_________________________________________________________________\n",
      "Layer (type)                 Output Shape              Param #   \n",
      "=================================================================\n",
      "dense_2 (Dense)              (None, 104, 70)           140       \n",
      "_________________________________________________________________\n",
      "batch_normalization_4 (Batch (None, 104, 70)           280       \n",
      "_________________________________________________________________\n",
      "dense_3 (Dense)              (None, 104, 130)          9230      \n",
      "_________________________________________________________________\n",
      "batch_normalization_5 (Batch (None, 104, 130)          520       \n",
      "_________________________________________________________________\n",
      "dropout_2 (Dropout)          (None, 104, 130)          0         \n",
      "_________________________________________________________________\n",
      "dense_4 (Dense)              (None, 104, 200)          26200     \n",
      "_________________________________________________________________\n",
      "batch_normalization_6 (Batch (None, 104, 200)          800       \n",
      "_________________________________________________________________\n",
      "dropout_3 (Dropout)          (None, 104, 200)          0         \n",
      "_________________________________________________________________\n",
      "dense_5 (Dense)              (None, 104, 130)          26130     \n",
      "_________________________________________________________________\n",
      "batch_normalization_7 (Batch (None, 104, 130)          520       \n",
      "_________________________________________________________________\n",
      "flatten_1 (Flatten)          (None, 13520)             0         \n",
      "_________________________________________________________________\n",
      "dense_6 (Dense)              (None, 60)                811260    \n",
      "_________________________________________________________________\n",
      "dense_7 (Dense)              (None, 5)                 305       \n",
      "=================================================================\n",
      "Total params: 875,385\n",
      "Trainable params: 874,325\n",
      "Non-trainable params: 1,060\n",
      "_________________________________________________________________\n"
     ]
    }
   ],
   "source": [
    "model.summary()"
   ]
  },
  {
   "cell_type": "code",
   "execution_count": 21,
   "metadata": {},
   "outputs": [],
   "source": [
    "model.compile(optimizer=Adam(lr=0.001), loss = 'sparse_categorical_crossentropy', metrics=['accuracy'])"
   ]
  },
  {
   "cell_type": "code",
   "execution_count": 22,
   "metadata": {},
   "outputs": [],
   "source": [
    "earlystop = EarlyStopping(patience=3) # definitely should be set higher for better performance\n",
    "#learning_rate_reduction = ReduceLROnPlateau(monitor='val_acc', \n",
    "#                                            patience=2, \n",
    "#                                            verbose=1, \n",
    "#                                            factor=0.85, \n",
    "#                                            min_lr=0.00001)\n",
    "callbacks = [earlystop, #learning_rate_reduction\n",
    "            ]"
   ]
  },
  {
   "cell_type": "code",
   "execution_count": 23,
   "metadata": {
    "_cell_guid": "79c7e3d0-c299-4dcb-8224-4455121ee9b0",
    "_uuid": "d629ff2d2480ee46fbb7e2d37f6b5fab8052498a",
    "scrolled": true
   },
   "outputs": [
    {
     "name": "stdout",
     "output_type": "stream",
     "text": [
      "Train on 153913 samples, validate on 38470 samples\n",
      "Epoch 1/40\n",
      "153913/153913 [==============================] - 238s 2ms/sample - loss: 0.4843 - accuracy: 0.7966 - val_loss: 0.1478 - val_accuracy: 0.9480\n",
      "Epoch 2/40\n",
      "153913/153913 [==============================] - 235s 2ms/sample - loss: 0.1367 - accuracy: 0.9500 - val_loss: 0.1096 - val_accuracy: 0.9511\n",
      "Epoch 3/40\n",
      "153913/153913 [==============================] - 235s 2ms/sample - loss: 0.0936 - accuracy: 0.9666 - val_loss: 0.0684 - val_accuracy: 0.9753\n",
      "Epoch 4/40\n",
      "153913/153913 [==============================] - 234s 2ms/sample - loss: 0.0819 - accuracy: 0.9712 - val_loss: 1.1604 - val_accuracy: 0.6592\n",
      "Epoch 5/40\n",
      "128256/153913 [=======================>......] - ETA: 36s - loss: 0.0546 - accuracy: 0.9816"
     ]
    }
   ],
   "source": [
    "history = model.fit(X_train, y_train, epochs=epoch, \n",
    "                    validation_data=(X_cv, y_cv), \n",
    "                    callbacks=callbacks,verbose=1)"
   ]
  },
  {
   "cell_type": "code",
   "execution_count": 24,
   "metadata": {},
   "outputs": [],
   "source": [
    "def plot_graphs(history, string):\n",
    "    plt.plot(history.history[string])\n",
    "    plt.xlabel(\"Epochs\")\n",
    "    plt.ylabel(string)\n",
    "    plt.show()"
   ]
  },
  {
   "cell_type": "code",
   "execution_count": 25,
   "metadata": {},
   "outputs": [
    {
     "data": {
      "image/png": "[encoded data removed]",
      "text/plain": [
       "<Figure size 432x288 with 1 Axes>"
      ]
     },
     "metadata": {
      "needs_background": "light"
     },
     "output_type": "display_data"
    },
    {
     "data": {
      "image/png": "[encoded data removed]",
      "text/plain": [
       "<Figure size 432x288 with 1 Axes>"
      ]
     },
     "metadata": {
      "needs_background": "light"
     },
     "output_type": "display_data"
    }
   ],
   "source": [
    "plot_graphs(history, 'val_accuracy')\n",
    "plot_graphs(history, 'val_loss')"
   ]
  },
  {
   "cell_type": "code",
   "execution_count": null,
   "metadata": {},
   "outputs": [],
   "source": []
  }
 ],
 "metadata": {
  "kernelspec": {
   "display_name": "Python 3",
   "language": "python",
   "name": "python3"
  },
  "language_info": {
   "codemirror_mode": {
    "name": "ipython",
    "version": 3
   },
   "file_extension": ".py",
   "mimetype": "text/x-python",
   "name": "python",
   "nbconvert_exporter": "python",
   "pygments_lexer": "ipython3",
   "version": "3.7.4"
  }
 },
 "nbformat": 4,
 "nbformat_minor": 4
}
